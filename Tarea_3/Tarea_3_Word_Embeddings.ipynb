{
  "cells": [
    {
      "attachments": {},
      "cell_type": "markdown",
      "metadata": {
        "id": "Ckbt7VPDhBwb"
      },
      "source": [
        "# **Tarea 3 - Word Embeddings 📚**\n",
        "\n",
        "**Integrantes:**\n",
        "\n",
        "**Fecha límite de entrega 📆:** 16 de mayo.\n",
        "\n",
        "**Tiempo estimado de dedicación:**"
      ]
    },
    {
      "attachments": {},
      "cell_type": "markdown",
      "metadata": {
        "ExecuteTime": {
          "end_time": "2020-03-19T18:30:18.109327Z",
          "start_time": "2020-03-19T18:30:18.103344Z"
        },
        "id": "q5CSRY4oNCHK"
      },
      "source": [
        "\n",
        "**Instrucciones:**\n",
        "- El ejercicio consiste en:\n",
        "    - Responder preguntas relativas a los contenidos vistos en los vídeos y slides de las clases.\n",
        "    - Implementar el método de la Word Context Matrix. \n",
        "    - Entrenar Word2Vec y FastText sobre un pequeño corpus.\n",
        "    - Evaluar los embeddings obtenidos en una tarea de clasificación.\n",
        "- La tarea se realiza en grupos de **máximo** 2 personas. Puede ser invidivual pero no es recomendable.\n",
        "- La entrega es a través de u-cursos a más tardar el día estipulado arriba. No se aceptan atrasos.\n",
        "- El formato de entrega es este mismo **Jupyter Notebook**.\n",
        "- Al momento de la revisión tu código será ejecutado. Por favor verifica que tu entrega no tenga errores de compilación. \n",
        "\n",
        "\n",
        "**Referencias**\n",
        "\n",
        "Vídeos: \n",
        "\n",
        "- [Linear Models](https://youtu.be/zhBxDsNLZEA)\n",
        "- [Neural Networks](https://youtu.be/oHZHA8h2xN0)\n",
        "- [Word Embeddings](https://youtu.be/wtwUsJMC9CA)"
      ]
    },
    {
      "attachments": {},
      "cell_type": "markdown",
      "metadata": {
        "id": "G4wYf0vgnbTv"
      },
      "source": [
        "## **Preguntas teóricas 📕 (3 puntos).** ##\n",
        "Para estas preguntas no es necesario implementar código, pero pueden utilizar pseudo código."
      ]
    },
    {
      "attachments": {},
      "cell_type": "markdown",
      "metadata": {
        "id": "B5hUG6-8ngoK"
      },
      "source": [
        "### **Parte 1: Modelos Lineales (1.5 ptos)**"
      ]
    },
    {
      "attachments": {},
      "cell_type": "markdown",
      "metadata": {
        "id": "5yRvZbhsoi8f"
      },
      "source": [
        "Suponga que tiene un dataset de 10.000 documentos etiquetados por 4 categorías: política, deporte, negocios y otros. "
      ]
    },
    {
      "attachments": {},
      "cell_type": "markdown",
      "metadata": {
        "id": "irsqBVmCnx3M"
      },
      "source": [
        "**Pregunta 1**: Diseñe un modelo lineal capaz de clasificar un documento según estas categorías donde el output sea un vector con una distribución de probabilidad con la pertenencia a cada clase. \n",
        "\n",
        "Especifique: representación de los documentos de entrada, parámetros del modelo, transformaciones necesarias para obtener la probabilidad de cada etiqueta y función de pérdida escogida. **(0.75 puntos)**\n",
        "\n",
        "**Respuesta**: \n"
      ]
    },
    {
      "attachments": {},
      "cell_type": "markdown",
      "metadata": {
        "id": "G5FaWqBVvL90"
      },
      "source": [
        "**Pregunta 2**: Explique cómo funciona el proceso de entrenamiento en este tipo de modelos y su evaluación. **(0.75 puntos)**\n",
        "\n",
        "**Respuesta**: "
      ]
    },
    {
      "attachments": {},
      "cell_type": "markdown",
      "metadata": {
        "id": "XkK7pc54njZq"
      },
      "source": [
        "### **Parte 2: Redes Neuronales (1.5 ptos)** "
      ]
    },
    {
      "attachments": {},
      "cell_type": "markdown",
      "metadata": {
        "id": "VUbJjlj_9AFC"
      },
      "source": [
        "Supongamos que tenemos la siguiente red neuronal."
      ]
    },
    {
      "attachments": {},
      "cell_type": "markdown",
      "metadata": {
        "id": "obUfuOYB_TOC"
      },
      "source": [
        "![image.png](https://drive.google.com/uc?export=view&id=1nV1G0dOeVGPn40qGcGF9l_pVEFNtLU-w)"
      ]
    },
    {
      "attachments": {},
      "cell_type": "markdown",
      "metadata": {
        "id": "s2z-8zKW0_6q"
      },
      "source": [
        "**Pregunta 1**: En clases les explicaron como se puede representar una red neuronal de una y dos capas de manera matemática. Dada la red neuronal anterior, defina la salida $\\vec{\\hat{y}}$ en función del vector $\\vec{x}$, pesos $W^i$, bias $b^i$ y funciones $g,f,h$. \n",
        "\n",
        "Adicionalmente liste y explicite las dimensiones de cada matriz y vector involucrado en la red neuronal. **(0.75 Puntos)**\n",
        "\n",
        "**Respuesta**: \n",
        "\n",
        "Formula:\n",
        "$\\vec{\\hat{y}} = NN_{MLP3}(\\vec{x}) =$\n",
        "\n",
        "Dimensiones: \n",
        "\n",
        "**Pregunta 2**: Explique qué es backpropagation. ¿Cuales serían los parámetros a evaluar en la red neuronal anterior durante backpropagation? **(0.25 puntos)**\n",
        "\n",
        "**Respuesta**:\n",
        "\n",
        "**Pregunta 3**: Explique los pasos de backpropagation. En la red neuronal anterior: Cuales son las derivadas que debemos calcular para poder obtener $\\vec{\\delta^l_{[j]}}$ en todas las capas? **(0.5 puntos)**\n",
        "\n",
        "**Respuesta**:"
      ]
    },
    {
      "attachments": {},
      "cell_type": "markdown",
      "metadata": {
        "id": "ocS_vQhR1gcU"
      },
      "source": [
        "## **Preguntas prácticas 💻 (3 puntos).** ##"
      ]
    },
    {
      "attachments": {},
      "cell_type": "markdown",
      "metadata": {
        "id": "D0wk5GBkSE73"
      },
      "source": [
        "### Parte 3 A (1 Punto): Word Contex Matrix"
      ]
    },
    {
      "attachments": {},
      "cell_type": "markdown",
      "metadata": {
        "id": "e_mh12Z9SF-J"
      },
      "source": [
        "\n",
        "\n",
        "En esta parte debe crear una matriz palabra contexto, para esto, complete el siguiente template (para esta parte puede utilizar las librerías ```numpy``` y/o ```scipy```). Hint: revise como utilizar matrices sparse de ```scipy```\n",
        "\n",
        "```python\n",
        "class WordContextMatrix:\n",
        "\n",
        "  def __init__(self, vocab_size, window_size, dataset, tokenizer):\n",
        "    \"\"\"\n",
        "    Utilice el constructor para definir los parametros.\n",
        "    \"\"\"\n",
        "\n",
        "    # se sugiere agregar un una estructura de datos para guardar las\n",
        "    # palabras del vocab y para guardar el conteo de coocurrencia\n",
        "    # si lo necesita puede agregar más parametros pero no puede cambiar el resto\n",
        "    ...\n",
        "    \n",
        "  def build_vocab(self):\n",
        "    \"\"\"\n",
        "    Utilice este método para construir el vocabulario\n",
        "    \"\"\"\n",
        "    \n",
        "\n",
        "    # Le puede ser útil considerar un token unk al vocab\n",
        "    # para palabras fuera del vocab\n",
        "    ...\n",
        "  \n",
        "  def build_matrix(self):\n",
        "    \"\"\"\n",
        "    Utilice este método para crear la palabra contexto\n",
        "    \"\"\"\n",
        "    ...\n",
        "\n",
        "  def get_matrix(self):\n",
        "    \"\"\"\n",
        "    Utilice este método para obtener la matriz palabra contexto. \n",
        "    \"\"\"\n",
        "\n",
        "    # se recomienda transformar la matrix a un diccionario de embedding.\n",
        "    # por ejemplo {palabra1:vec1, palabra2:vec2, ...}\n",
        "    ...\n",
        "\n",
        "```\n",
        "\n",
        "puede modificar los parámetros o métodos si lo considera necesario. Para probar la matrix puede utilizar el siguiente corpus.\n",
        "\n",
        "```python\n",
        "corpus = [\n",
        "  \"I like deep learning.\",\n",
        "  \"I like NLP.\",\n",
        "  \"I enjoy flying.\"\n",
        "]\n",
        "```\n",
        "\n",
        "Obteniendo una matriz parecia a esta:\n",
        "\n",
        "***Resultado esperado***: \n",
        "\n",
        "| counts   | I  | like | enjoy | deep | learning | NLP | flying | . |   \n",
        "|----------|---:|-----:|------:|-----:|---------:|----:|-------:|--:|\n",
        "| I        | 0  |  2   |  1    |    0 |  0       |   0 | 0      | 0|            \n",
        "| like     |  2 |    0 |  0    |    1 |  0       |   1 | 0      | 0 | \n",
        "| enjoy    |  1 |    0 |  0    |    0 |  0       |   0 | 1      | 0 |\n",
        "| deep     |  0 |    1 |  0    |    0 |  1       |   0 | 0      | 0 |  \n",
        "| learning |  0 |    0 |  0    |    1 |  0       |   0 | 0      | 1 |          \n",
        "| NLP      |  0 |    1 |  0    |    0 |  0       |   0 | 0      | 1 |\n",
        "| flying   |  0 |    0 |  1    |    0 |  0       |   0 | 0      | 1 | \n",
        "| .        |  0 |    0 |  0    |    0 |  1       |   1 | 1      | 0 | \n",
        "\n",
        "``\n",
        "\n",
        "Verifique si su matrix es igual a esta utilizando el corpus de ejemplo. Ojo que este es sólo un ejemplo, su algoritmo debe **generalizar** a otros ejemplos."
      ]
    },
    {
      "cell_type": "code",
      "execution_count": 7,
      "metadata": {},
      "outputs": [],
      "source": [
        "corpus = [\n",
        "  \"I like deep learning.\",\n",
        "  \"I like NLP.\",\n",
        "  \"I enjoy flying.\"\n",
        "]"
      ]
    },
    {
      "cell_type": "code",
      "execution_count": null,
      "metadata": {},
      "outputs": [],
      "source": []
    },
    {
      "cell_type": "code",
      "execution_count": 108,
      "metadata": {},
      "outputs": [],
      "source": [
        "#definimos duncion tokenizer for every sentence:\n",
        "def tokenizer(sentence):\n",
        "\n",
        "    tokens = sentence.split()\n",
        "\n",
        "    return tokens\n"
      ]
    },
    {
      "cell_type": "code",
      "execution_count": 143,
      "metadata": {},
      "outputs": [],
      "source": [
        "import numpy as np\n",
        "\n",
        "class WordContextMatrix:\n",
        "\n",
        "  def __init__(self, vocab_size, window_size, dataset, tokenizer):\n",
        "\n",
        "    self.vocab_size = vocab_size\n",
        "    self.window_size = window_size\n",
        "    self.dataset = dataset\n",
        "    self.tokenizer = tokenizer\n",
        "    self.matrix = np.zeros((vocab_size, vocab_size))\n",
        "\n",
        "  #Definimos la función para construir el vocabulario:\n",
        "  def build_vocab(self):\n",
        "    vocab = []\n",
        "    for sentence in self.dataset:\n",
        "      for word in self.tokenizer(sentence):\n",
        "        vocab.append(word)\n",
        "    return list(set(vocab))\n",
        "  \n",
        "  #Definimos la función para construir la matriz de contexto:\n",
        "  def build_matrix(self):\n",
        "    vocab = self.build_vocab()\n",
        "    for sentence in self.dataset:\n",
        "      for i in range(0, len(self.tokenizer(sentence))):\n",
        "        for j in range(i - self.window_size, i + self.window_size + 1):\n",
        "          if j >= 0 and j < len(self.tokenizer(sentence)) and j != i:\n",
        "            #print('w=', self.tokenizer(sentence)[i], 'context=', self.tokenizer(sentence)[j], i, j)\n",
        "            self.matrix[vocab.index(self.tokenizer(sentence)[i])][vocab.index(self.tokenizer(sentence)[j])] += 1\n",
        "    return self.matrix\n",
        "  \n",
        "  #Definimos la función para obtener la matriz de contexto:\n",
        "  def get_matrix(self):\n",
        "    return self.matrix\n",
        "\n"
      ]
    },
    {
      "cell_type": "code",
      "execution_count": 145,
      "metadata": {},
      "outputs": [
        {
          "name": "stdout",
          "output_type": "stream",
          "text": [
            "['I', 'enjoy', 'like', 'flying.', 'NLP.', 'learning.', 'deep']\n",
            "14\n"
          ]
        },
        {
          "data": {
            "text/html": [
              "<div>\n",
              "<style scoped>\n",
              "    .dataframe tbody tr th:only-of-type {\n",
              "        vertical-align: middle;\n",
              "    }\n",
              "\n",
              "    .dataframe tbody tr th {\n",
              "        vertical-align: top;\n",
              "    }\n",
              "\n",
              "    .dataframe thead th {\n",
              "        text-align: right;\n",
              "    }\n",
              "</style>\n",
              "<table border=\"1\" class=\"dataframe\">\n",
              "  <thead>\n",
              "    <tr style=\"text-align: right;\">\n",
              "      <th></th>\n",
              "      <th>I</th>\n",
              "      <th>enjoy</th>\n",
              "      <th>like</th>\n",
              "      <th>flying.</th>\n",
              "      <th>NLP.</th>\n",
              "      <th>learning.</th>\n",
              "      <th>deep</th>\n",
              "    </tr>\n",
              "  </thead>\n",
              "  <tbody>\n",
              "    <tr>\n",
              "      <th>I</th>\n",
              "      <td>0</td>\n",
              "      <td>1</td>\n",
              "      <td>2</td>\n",
              "      <td>0</td>\n",
              "      <td>0</td>\n",
              "      <td>0</td>\n",
              "      <td>0</td>\n",
              "    </tr>\n",
              "    <tr>\n",
              "      <th>enjoy</th>\n",
              "      <td>1</td>\n",
              "      <td>0</td>\n",
              "      <td>0</td>\n",
              "      <td>1</td>\n",
              "      <td>0</td>\n",
              "      <td>0</td>\n",
              "      <td>0</td>\n",
              "    </tr>\n",
              "    <tr>\n",
              "      <th>like</th>\n",
              "      <td>2</td>\n",
              "      <td>0</td>\n",
              "      <td>0</td>\n",
              "      <td>0</td>\n",
              "      <td>1</td>\n",
              "      <td>0</td>\n",
              "      <td>1</td>\n",
              "    </tr>\n",
              "    <tr>\n",
              "      <th>flying.</th>\n",
              "      <td>0</td>\n",
              "      <td>1</td>\n",
              "      <td>0</td>\n",
              "      <td>0</td>\n",
              "      <td>0</td>\n",
              "      <td>0</td>\n",
              "      <td>0</td>\n",
              "    </tr>\n",
              "    <tr>\n",
              "      <th>NLP.</th>\n",
              "      <td>0</td>\n",
              "      <td>0</td>\n",
              "      <td>1</td>\n",
              "      <td>0</td>\n",
              "      <td>0</td>\n",
              "      <td>0</td>\n",
              "      <td>0</td>\n",
              "    </tr>\n",
              "    <tr>\n",
              "      <th>learning.</th>\n",
              "      <td>0</td>\n",
              "      <td>0</td>\n",
              "      <td>0</td>\n",
              "      <td>0</td>\n",
              "      <td>0</td>\n",
              "      <td>0</td>\n",
              "      <td>1</td>\n",
              "    </tr>\n",
              "    <tr>\n",
              "      <th>deep</th>\n",
              "      <td>0</td>\n",
              "      <td>0</td>\n",
              "      <td>1</td>\n",
              "      <td>0</td>\n",
              "      <td>0</td>\n",
              "      <td>1</td>\n",
              "      <td>0</td>\n",
              "    </tr>\n",
              "  </tbody>\n",
              "</table>\n",
              "</div>"
            ],
            "text/plain": [
              "           I  enjoy  like  flying.  NLP.  learning.  deep\n",
              "I          0      1     2        0     0          0     0\n",
              "enjoy      1      0     0        1     0          0     0\n",
              "like       2      0     0        0     1          0     1\n",
              "flying.    0      1     0        0     0          0     0\n",
              "NLP.       0      0     1        0     0          0     0\n",
              "learning.  0      0     0        0     0          0     1\n",
              "deep       0      0     1        0     0          1     0"
            ]
          },
          "execution_count": 145,
          "metadata": {},
          "output_type": "execute_result"
        }
      ],
      "source": [
        "context_matrix = WordContextMatrix(7, 1, corpus, tokenizer) # Tamaño del volabulario se define manualmente ej: 7\n",
        "\n",
        "print(context_matrix.build_vocab()[0:10])\n",
        "\n",
        "CM = context_matrix.build_matrix()\n",
        "#Imprimimos la suma de elentos de CM en int:\n",
        "print(np.sum(CM, dtype=int))\n",
        "\n",
        "#add the matrix to a dataframe including vicabulary as index and columns:\n",
        "import pandas as pd\n",
        "df = pd.DataFrame(CM, index=context_matrix.build_vocab()[0:10], columns=context_matrix.build_vocab()[0:10], dtype=int)\n",
        "df\n",
        "\n"
      ]
    },
    {
      "attachments": {},
      "cell_type": "markdown",
      "metadata": {
        "id": "Ol82nJ0FnmcP"
      },
      "source": [
        "### **Parte 3 B (1 Punto): Word Embeddings**"
      ]
    },
    {
      "attachments": {},
      "cell_type": "markdown",
      "metadata": {
        "id": "OgmeSFqKLpFL"
      },
      "source": [
        "En la auxiliar 2 aprendieron como entrenar Word2Vec utilizando gensim. El objetivo de esta parte es comparar los embeddings obtenidos con dos modelos \n",
        "diferentes: Word2Vec y [FastText](https://radimrehurek.com/gensim/models/fasttext.html) (utilizen size=200 en FastText) entrenados en el mismo dataset de diálogos de los Simpson. "
      ]
    },
    {
      "attachments": {},
      "cell_type": "markdown",
      "metadata": {
        "id": "CgSlIxJW36ZA"
      },
      "source": [
        "# Sección nueva"
      ]
    },
    {
      "cell_type": "code",
      "execution_count": 2,
      "metadata": {
        "id": "ecCvnryeQiG7"
      },
      "outputs": [],
      "source": [
        "import re  \n",
        "import pandas as pd \n",
        "from time import time  \n",
        "from collections import defaultdict \n",
        "import string \n",
        "import multiprocessing\n",
        "import os\n",
        "import gensim\n",
        "import sklearn\n",
        "from sklearn import linear_model\n",
        "from collections import Counter\n",
        "import numpy as np\n",
        "from sklearn.metrics import accuracy_score, precision_score, recall_score, f1_score, roc_auc_score, confusion_matrix, cohen_kappa_score, classification_report\n",
        "\n",
        "# word2vec\n",
        "from gensim.models import Word2Vec, KeyedVectors, FastText\n",
        "from gensim.models.phrases import Phrases, Phraser\n",
        "from sklearn.model_selection import train_test_split\n",
        "import logging\n",
        "\n",
        "logging.basicConfig(format='%(asctime)s : %(levelname)s : %(message)s', level=logging.INFO)\n",
        "logger = logging.getLogger(__name__)"
      ]
    },
    {
      "attachments": {},
      "cell_type": "markdown",
      "metadata": {
        "id": "tZgN06q4QPi3"
      },
      "source": [
        "Utilizando el dataset adjunto con la tarea:"
      ]
    },
    {
      "cell_type": "code",
      "execution_count": 4,
      "metadata": {
        "colab": {
          "base_uri": "https://localhost:8080/"
        },
        "id": "eY3kmg4onnsu",
        "outputId": "d3525a54-0c10-401e-b3e2-9c6e9e714a2c"
      },
      "outputs": [],
      "source": [
        "data_file = \"data/simpsons_dataset.csv\"\n",
        "df = pd.read_csv(data_file)\n",
        "stopwords = pd.read_csv(\n",
        "    'https://raw.githubusercontent.com/Alir3z4/stop-words/master/english.txt'\n",
        ").values\n",
        "stopwords = Counter(stopwords.flatten().tolist())\n",
        "df = df.dropna().reset_index(drop=True) # Quitar filas vacias"
      ]
    },
    {
      "cell_type": "code",
      "execution_count": 8,
      "metadata": {},
      "outputs": [
        {
          "data": {
            "text/html": [
              "<div>\n",
              "<style scoped>\n",
              "    .dataframe tbody tr th:only-of-type {\n",
              "        vertical-align: middle;\n",
              "    }\n",
              "\n",
              "    .dataframe tbody tr th {\n",
              "        vertical-align: top;\n",
              "    }\n",
              "\n",
              "    .dataframe thead th {\n",
              "        text-align: right;\n",
              "    }\n",
              "</style>\n",
              "<table border=\"1\" class=\"dataframe\">\n",
              "  <thead>\n",
              "    <tr style=\"text-align: right;\">\n",
              "      <th></th>\n",
              "      <th>raw_character_text</th>\n",
              "      <th>spoken_words</th>\n",
              "    </tr>\n",
              "  </thead>\n",
              "  <tbody>\n",
              "    <tr>\n",
              "      <th>0</th>\n",
              "      <td>Miss Hoover</td>\n",
              "      <td>No, actually, it was a little of both. Sometim...</td>\n",
              "    </tr>\n",
              "    <tr>\n",
              "      <th>1</th>\n",
              "      <td>Lisa Simpson</td>\n",
              "      <td>Where's Mr. Bergstrom?</td>\n",
              "    </tr>\n",
              "    <tr>\n",
              "      <th>2</th>\n",
              "      <td>Miss Hoover</td>\n",
              "      <td>I don't know. Although I'd sure like to talk t...</td>\n",
              "    </tr>\n",
              "    <tr>\n",
              "      <th>3</th>\n",
              "      <td>Lisa Simpson</td>\n",
              "      <td>That life is worth living.</td>\n",
              "    </tr>\n",
              "    <tr>\n",
              "      <th>4</th>\n",
              "      <td>Edna Krabappel-Flanders</td>\n",
              "      <td>The polls will be open from now until the end ...</td>\n",
              "    </tr>\n",
              "    <tr>\n",
              "      <th>...</th>\n",
              "      <td>...</td>\n",
              "      <td>...</td>\n",
              "    </tr>\n",
              "    <tr>\n",
              "      <th>131848</th>\n",
              "      <td>Miss Hoover</td>\n",
              "      <td>I'm back.</td>\n",
              "    </tr>\n",
              "    <tr>\n",
              "      <th>131849</th>\n",
              "      <td>Miss Hoover</td>\n",
              "      <td>You see, class, my Lyme disease turned out to ...</td>\n",
              "    </tr>\n",
              "    <tr>\n",
              "      <th>131850</th>\n",
              "      <td>Miss Hoover</td>\n",
              "      <td>Psy-cho-so-ma-tic.</td>\n",
              "    </tr>\n",
              "    <tr>\n",
              "      <th>131851</th>\n",
              "      <td>Ralph Wiggum</td>\n",
              "      <td>Does that mean you were crazy?</td>\n",
              "    </tr>\n",
              "    <tr>\n",
              "      <th>131852</th>\n",
              "      <td>JANEY</td>\n",
              "      <td>No, that means she was faking it.</td>\n",
              "    </tr>\n",
              "  </tbody>\n",
              "</table>\n",
              "<p>131853 rows × 2 columns</p>\n",
              "</div>"
            ],
            "text/plain": [
              "             raw_character_text  \\\n",
              "0                   Miss Hoover   \n",
              "1                  Lisa Simpson   \n",
              "2                   Miss Hoover   \n",
              "3                  Lisa Simpson   \n",
              "4       Edna Krabappel-Flanders   \n",
              "...                         ...   \n",
              "131848              Miss Hoover   \n",
              "131849              Miss Hoover   \n",
              "131850              Miss Hoover   \n",
              "131851             Ralph Wiggum   \n",
              "131852                    JANEY   \n",
              "\n",
              "                                             spoken_words  \n",
              "0       No, actually, it was a little of both. Sometim...  \n",
              "1                                  Where's Mr. Bergstrom?  \n",
              "2       I don't know. Although I'd sure like to talk t...  \n",
              "3                              That life is worth living.  \n",
              "4       The polls will be open from now until the end ...  \n",
              "...                                                   ...  \n",
              "131848                                          I'm back.  \n",
              "131849  You see, class, my Lyme disease turned out to ...  \n",
              "131850                                 Psy-cho-so-ma-tic.  \n",
              "131851                     Does that mean you were crazy?  \n",
              "131852                  No, that means she was faking it.  \n",
              "\n",
              "[131853 rows x 2 columns]"
            ]
          },
          "execution_count": 8,
          "metadata": {},
          "output_type": "execute_result"
        }
      ],
      "source": [
        "df"
      ]
    },
    {
      "attachments": {},
      "cell_type": "markdown",
      "metadata": {
        "id": "VAg5a5bmWk3T"
      },
      "source": [
        "**Pregunta 1**: Ayudándose de los pasos vistos en la auxiliar, entrene los modelos Word2Vec y FastText sobre el dataset anterior. **(1 punto)** (Hint, le puede servir explorar un poco los datos)"
      ]
    },
    {
      "attachments": {},
      "cell_type": "markdown",
      "metadata": {
        "id": "MWw2fXFRXe5Y"
      },
      "source": [
        "**Respuesta**:"
      ]
    },
    {
      "cell_type": "code",
      "execution_count": 122,
      "metadata": {
        "id": "Bvwplz7yTNcr"
      },
      "outputs": [
        {
          "data": {
            "text/plain": [
              "(131853,)"
            ]
          },
          "execution_count": 122,
          "metadata": {},
          "output_type": "execute_result"
        }
      ],
      "source": [
        "# unir titulo con contenido de la noticia\n",
        "content = df['raw_character_text'] + df['spoken_words']\n",
        "content.shape"
      ]
    },
    {
      "cell_type": "code",
      "execution_count": 124,
      "metadata": {},
      "outputs": [],
      "source": [
        "from collections import Counter\n",
        "\n",
        "# limpiar puntuaciones y separar por tokens.\n",
        "punctuation = string.punctuation + \"«»“”‘’…—\"\n",
        "stopwords = pd.read_csv(\n",
        "    'https://raw.githubusercontent.com/Alir3z4/stop-words/master/spanish.txt'\n",
        ").values\n",
        "stopwords = Counter(stopwords.flatten().tolist())\n",
        "\n",
        "def simple_tokenizer(doc, lower=False):\n",
        "    if lower:\n",
        "        tokenized_doc = doc.translate(str.maketrans(\n",
        "            '', '', punctuation)).lower().split()\n",
        "\n",
        "    tokenized_doc = doc.translate(str.maketrans('', '', punctuation)).split()\n",
        "    tokenized_doc = [\n",
        "        token for token in tokenized_doc if token.lower() not in stopwords\n",
        "    ]\n",
        "    return tokenized_doc"
      ]
    },
    {
      "cell_type": "code",
      "execution_count": 126,
      "metadata": {},
      "outputs": [
        {
          "name": "stdout",
          "output_type": "stream",
          "text": [
            "Ejemplo de alguna noticia: ['Lisa', 'SimpsonI', 'see', 'touched', 'you', 'too']\n"
          ]
        }
      ],
      "source": [
        "cleaned_content = [simple_tokenizer(doc) for doc in content.values]\n",
        "print(\"Ejemplo de alguna noticia: {}\".format(cleaned_content[14]))"
      ]
    },
    {
      "cell_type": "code",
      "execution_count": 127,
      "metadata": {},
      "outputs": [
        {
          "name": "stderr",
          "output_type": "stream",
          "text": [
            "2023-05-19 16:17:02,475 : INFO : collecting all words and their counts\n",
            "2023-05-19 16:17:02,476 : INFO : PROGRESS: at sentence #0, processed 0 words and 0 word types\n",
            "2023-05-19 16:17:02,543 : INFO : PROGRESS: at sentence #5000, processed 52993 words and 41090 word types\n",
            "2023-05-19 16:17:02,609 : INFO : PROGRESS: at sentence #10000, processed 104443 words and 72630 word types\n",
            "2023-05-19 16:17:02,676 : INFO : PROGRESS: at sentence #15000, processed 153553 words and 100125 word types\n",
            "2023-05-19 16:17:02,753 : INFO : PROGRESS: at sentence #20000, processed 210893 words and 128923 word types\n",
            "2023-05-19 16:17:02,831 : INFO : PROGRESS: at sentence #25000, processed 267475 words and 157025 word types\n",
            "2023-05-19 16:17:02,915 : INFO : PROGRESS: at sentence #30000, processed 327248 words and 185229 word types\n",
            "2023-05-19 16:17:02,993 : INFO : PROGRESS: at sentence #35000, processed 383895 words and 210128 word types\n",
            "2023-05-19 16:17:03,064 : INFO : PROGRESS: at sentence #40000, processed 434936 words and 231912 word types\n",
            "2023-05-19 16:17:03,135 : INFO : PROGRESS: at sentence #45000, processed 485343 words and 253492 word types\n",
            "2023-05-19 16:17:03,210 : INFO : PROGRESS: at sentence #50000, processed 534712 words and 274693 word types\n",
            "2023-05-19 16:17:03,280 : INFO : PROGRESS: at sentence #55000, processed 582859 words and 294866 word types\n",
            "2023-05-19 16:17:03,347 : INFO : PROGRESS: at sentence #60000, processed 628592 words and 313505 word types\n",
            "2023-05-19 16:17:03,421 : INFO : PROGRESS: at sentence #65000, processed 677609 words and 333043 word types\n",
            "2023-05-19 16:17:03,511 : INFO : PROGRESS: at sentence #70000, processed 732677 words and 355604 word types\n",
            "2023-05-19 16:17:03,590 : INFO : PROGRESS: at sentence #75000, processed 787361 words and 376972 word types\n",
            "2023-05-19 16:17:03,671 : INFO : PROGRESS: at sentence #80000, processed 842358 words and 397923 word types\n",
            "2023-05-19 16:17:03,749 : INFO : PROGRESS: at sentence #85000, processed 896991 words and 418791 word types\n",
            "2023-05-19 16:17:03,826 : INFO : PROGRESS: at sentence #90000, processed 949703 words and 438958 word types\n",
            "2023-05-19 16:17:03,906 : INFO : PROGRESS: at sentence #95000, processed 1004405 words and 458631 word types\n",
            "2023-05-19 16:17:03,988 : INFO : PROGRESS: at sentence #100000, processed 1058029 words and 478687 word types\n",
            "2023-05-19 16:17:04,091 : INFO : PROGRESS: at sentence #105000, processed 1112821 words and 498616 word types\n",
            "2023-05-19 16:17:04,177 : INFO : PROGRESS: at sentence #110000, processed 1168376 words and 519127 word types\n",
            "2023-05-19 16:17:04,253 : INFO : PROGRESS: at sentence #115000, processed 1221692 words and 537672 word types\n",
            "2023-05-19 16:17:04,337 : INFO : PROGRESS: at sentence #120000, processed 1275993 words and 556857 word types\n",
            "2023-05-19 16:17:04,416 : INFO : PROGRESS: at sentence #125000, processed 1329611 words and 575455 word types\n",
            "2023-05-19 16:17:04,497 : INFO : PROGRESS: at sentence #130000, processed 1383007 words and 591195 word types\n",
            "2023-05-19 16:17:04,527 : INFO : collected 597019 token types (unigram + bigrams) from a corpus of 1402728 words and 131853 sentences\n",
            "2023-05-19 16:17:04,528 : INFO : merged Phrases<597019 vocab, min_count=100, threshold=10.0, max_vocab_size=40000000>\n",
            "2023-05-19 16:17:04,529 : INFO : Phrases lifecycle event {'msg': 'built Phrases<597019 vocab, min_count=100, threshold=10.0, max_vocab_size=40000000> in 2.05s', 'datetime': '2023-05-19T16:17:04.529107', 'gensim': '4.3.1', 'python': '3.10.6 (main, Mar 10 2023, 10:55:28) [GCC 11.3.0]', 'platform': 'Linux-5.19.0-41-generic-x86_64-with-glibc2.35', 'event': 'created'}\n"
          ]
        }
      ],
      "source": [
        "# Phrases recibe una lista de oraciones, y junta bigramas que estén al menos 100 veces repetidos\n",
        "# como un único token. Detrás de esto hay un modelo estadístico basado en frecuencias, probabilidades, etc\n",
        "# pero en términos simples ese es el resultado\n",
        "phrases = Phrases(cleaned_content, min_count=100, progress_per=5000) "
      ]
    },
    {
      "cell_type": "code",
      "execution_count": 128,
      "metadata": {},
      "outputs": [
        {
          "name": "stderr",
          "output_type": "stream",
          "text": [
            "2023-05-19 16:17:09,461 : INFO : exporting phrases from Phrases<597019 vocab, min_count=100, threshold=10.0, max_vocab_size=40000000>\n",
            "2023-05-19 16:17:11,251 : INFO : FrozenPhrases lifecycle event {'msg': 'exported FrozenPhrases<91 phrases, min_count=100, threshold=10.0> from Phrases<597019 vocab, min_count=100, threshold=10.0, max_vocab_size=40000000> in 1.79s', 'datetime': '2023-05-19T16:17:11.251624', 'gensim': '4.3.1', 'python': '3.10.6 (main, Mar 10 2023, 10:55:28) [GCC 11.3.0]', 'platform': 'Linux-5.19.0-41-generic-x86_64-with-glibc2.35', 'event': 'created'}\n"
          ]
        }
      ],
      "source": [
        "bigram = Phraser(phrases)\n",
        "sentences = bigram[cleaned_content]"
      ]
    },
    {
      "cell_type": "code",
      "execution_count": 129,
      "metadata": {},
      "outputs": [
        {
          "name": "stdout",
          "output_type": "stream",
          "text": [
            "[['Miss', 'HooverNo', 'actually', 'it', 'was', 'a', 'little', 'of', 'both', 'Sometimes', 'when', 'a', 'disease', 'is', 'in', 'all', 'the', 'magazines', 'and', 'all', 'the', 'news', 'shows', 'its', 'only', 'natural', 'that', 'you', 'think', 'you', 'have', 'it'], ['Lisa', 'SimpsonWheres', 'Mr', 'Bergstrom'], ['Miss', 'HooverI', 'dont_know', 'Although', 'Id', 'sure', 'like', 'to', 'talk', 'to', 'him', 'didnt', 'touch', 'my', 'lesson', 'plan', 'What', 'did', 'teach', 'you'], ['Lisa', 'SimpsonThat', 'life', 'is', 'worth', 'living'], ['Edna', 'KrabappelFlandersThe', 'polls', 'will_be', 'open', 'from', 'now', 'until', 'the', 'end', 'of', 'recess', 'Now', 'just', 'in', 'case', 'any', 'of', 'you', 'have', 'decided', 'to', 'put', 'any', 'thought', 'into', 'this', 'well', 'have', 'our', 'final', 'statements', 'Martin'], ['Martin', 'PrinceI', 'dont', 'think', 'theres', 'anything', 'left', 'to', 'say'], ['Edna', 'KrabappelFlandersBart'], ['Bart', 'SimpsonVictory', 'party', 'under', 'the', 'slide'], ['Lisa', 'SimpsonMr', 'Bergstrom', 'Mr', 'Bergstrom'], ['LandladyHey', 'hey', 'Moved', 'out', 'this', 'morning', 'must', 'have', 'a', 'new', 'job', 'took', 'his', 'Copernicus', 'costume']]\n"
          ]
        }
      ],
      "source": [
        "# para ver como quedan los textos tokenizadas, quitar comentario a la siguiente linea:\n",
        "print(list(sentences)[0:10])"
      ]
    },
    {
      "cell_type": "code",
      "execution_count": 130,
      "metadata": {},
      "outputs": [
        {
          "name": "stderr",
          "output_type": "stream",
          "text": [
            "2023-05-19 16:17:26,611 : INFO : Word2Vec lifecycle event {'params': 'Word2Vec<vocab=0, vector_size=200, alpha=0.03>', 'datetime': '2023-05-19T16:17:26.611431', 'gensim': '4.3.1', 'python': '3.10.6 (main, Mar 10 2023, 10:55:28) [GCC 11.3.0]', 'platform': 'Linux-5.19.0-41-generic-x86_64-with-glibc2.35', 'event': 'created'}\n"
          ]
        }
      ],
      "source": [
        "Simpsons = Word2Vec(min_count=10,\n",
        "                      window=4,\n",
        "                      vector_size=200,\n",
        "                      sample=6e-5,\n",
        "                      alpha=0.03,\n",
        "                      min_alpha=0.0007,\n",
        "                      negative=20,\n",
        "                      workers=multiprocessing.cpu_count())"
      ]
    },
    {
      "cell_type": "code",
      "execution_count": 131,
      "metadata": {},
      "outputs": [
        {
          "name": "stderr",
          "output_type": "stream",
          "text": [
            "2023-05-19 16:17:33,623 : INFO : collecting all words and their counts\n",
            "2023-05-19 16:17:33,625 : INFO : PROGRESS: at sentence #0, processed 0 words, keeping 0 word types\n",
            "2023-05-19 16:17:33,877 : INFO : PROGRESS: at sentence #10000, processed 101844 words, keeping 15730 word types\n",
            "2023-05-19 16:17:34,110 : INFO : PROGRESS: at sentence #20000, processed 205879 words, keeping 25594 word types\n",
            "2023-05-19 16:17:34,362 : INFO : PROGRESS: at sentence #30000, processed 319516 words, keeping 34491 word types\n",
            "2023-05-19 16:17:34,602 : INFO : PROGRESS: at sentence #40000, processed 424692 words, keeping 41294 word types\n",
            "2023-05-19 16:17:34,836 : INFO : PROGRESS: at sentence #50000, processed 522288 words, keeping 47863 word types\n",
            "2023-05-19 16:17:35,054 : INFO : PROGRESS: at sentence #60000, processed 614063 words, keeping 53932 word types\n",
            "2023-05-19 16:17:35,290 : INFO : PROGRESS: at sentence #70000, processed 715810 words, keeping 60223 word types\n",
            "2023-05-19 16:17:35,534 : INFO : PROGRESS: at sentence #80000, processed 823239 words, keeping 66326 word types\n",
            "2023-05-19 16:17:35,778 : INFO : PROGRESS: at sentence #90000, processed 928559 words, keeping 72293 word types\n",
            "2023-05-19 16:17:36,025 : INFO : PROGRESS: at sentence #100000, processed 1034630 words, keeping 77908 word types\n",
            "2023-05-19 16:17:36,286 : INFO : PROGRESS: at sentence #110000, processed 1142844 words, keeping 83922 word types\n",
            "2023-05-19 16:17:36,538 : INFO : PROGRESS: at sentence #120000, processed 1248271 words, keeping 89307 word types\n",
            "2023-05-19 16:17:36,780 : INFO : PROGRESS: at sentence #130000, processed 1352861 words, keeping 93841 word types\n",
            "2023-05-19 16:17:36,826 : INFO : collected 94548 word types from a corpus of 1372110 raw words and 131853 sentences\n",
            "2023-05-19 16:17:36,827 : INFO : Creating a fresh vocabulary\n",
            "2023-05-19 16:17:36,962 : INFO : Word2Vec lifecycle event {'msg': 'effective_min_count=10 retains 8907 unique words (9.42% of original 94548, drops 85641)', 'datetime': '2023-05-19T16:17:36.962281', 'gensim': '4.3.1', 'python': '3.10.6 (main, Mar 10 2023, 10:55:28) [GCC 11.3.0]', 'platform': 'Linux-5.19.0-41-generic-x86_64-with-glibc2.35', 'event': 'prepare_vocab'}\n",
            "2023-05-19 16:17:36,963 : INFO : Word2Vec lifecycle event {'msg': 'effective_min_count=10 leaves 1214250 word corpus (88.50% of original 1372110, drops 157860)', 'datetime': '2023-05-19T16:17:36.963004', 'gensim': '4.3.1', 'python': '3.10.6 (main, Mar 10 2023, 10:55:28) [GCC 11.3.0]', 'platform': 'Linux-5.19.0-41-generic-x86_64-with-glibc2.35', 'event': 'prepare_vocab'}\n",
            "2023-05-19 16:17:37,030 : INFO : deleting the raw counts dictionary of 94548 items\n",
            "2023-05-19 16:17:37,032 : INFO : sample=6e-05 downsamples 805 most-common words\n",
            "2023-05-19 16:17:37,033 : INFO : Word2Vec lifecycle event {'msg': 'downsampling leaves estimated 528492.7114590418 word corpus (43.5%% of prior 1214250)', 'datetime': '2023-05-19T16:17:37.033372', 'gensim': '4.3.1', 'python': '3.10.6 (main, Mar 10 2023, 10:55:28) [GCC 11.3.0]', 'platform': 'Linux-5.19.0-41-generic-x86_64-with-glibc2.35', 'event': 'prepare_vocab'}\n",
            "2023-05-19 16:17:37,107 : INFO : estimated required memory for 8907 words and 200 dimensions: 18704700 bytes\n",
            "2023-05-19 16:17:37,107 : INFO : resetting layer weights\n",
            "2023-05-19 16:17:37,113 : INFO : Word2Vec lifecycle event {'update': False, 'trim_rule': 'None', 'datetime': '2023-05-19T16:17:37.113462', 'gensim': '4.3.1', 'python': '3.10.6 (main, Mar 10 2023, 10:55:28) [GCC 11.3.0]', 'platform': 'Linux-5.19.0-41-generic-x86_64-with-glibc2.35', 'event': 'build_vocab'}\n"
          ]
        }
      ],
      "source": [
        "#Construimos el vocabulario:\n",
        "Simpsons.build_vocab(sentences, progress_per=10000)"
      ]
    },
    {
      "cell_type": "code",
      "execution_count": 132,
      "metadata": {},
      "outputs": [
        {
          "name": "stderr",
          "output_type": "stream",
          "text": [
            "2023-05-19 16:17:43,191 : INFO : Word2Vec lifecycle event {'msg': 'training model with 8 workers on 8907 vocabulary and 200 features, using sg=0 hs=0 sample=6e-05 negative=20 window=4 shrink_windows=True', 'datetime': '2023-05-19T16:17:43.191218', 'gensim': '4.3.1', 'python': '3.10.6 (main, Mar 10 2023, 10:55:28) [GCC 11.3.0]', 'platform': 'Linux-5.19.0-41-generic-x86_64-with-glibc2.35', 'event': 'train'}\n",
            "2023-05-19 16:17:44,211 : INFO : EPOCH 0 - PROGRESS: at 21.40% examples, 114357 words/s, in_qsize 0, out_qsize 0\n",
            "2023-05-19 16:17:46,849 : INFO : EPOCH 0: training on 1372110 raw words (528599 effective words) took 3.7s, 144718 effective words/s\n",
            "2023-05-19 16:17:47,871 : INFO : EPOCH 1 - PROGRESS: at 28.46% examples, 152959 words/s, in_qsize 0, out_qsize 0\n",
            "2023-05-19 16:17:50,182 : INFO : EPOCH 1: training on 1372110 raw words (528640 effective words) took 3.3s, 159026 effective words/s\n",
            "2023-05-19 16:17:51,215 : INFO : EPOCH 2 - PROGRESS: at 29.23% examples, 155229 words/s, in_qsize 0, out_qsize 0\n",
            "2023-05-19 16:17:53,617 : INFO : EPOCH 2: training on 1372110 raw words (528614 effective words) took 3.4s, 154302 effective words/s\n",
            "2023-05-19 16:17:54,631 : INFO : EPOCH 3 - PROGRESS: at 29.94% examples, 161712 words/s, in_qsize 0, out_qsize 0\n",
            "2023-05-19 16:17:57,286 : INFO : EPOCH 3: training on 1372110 raw words (528102 effective words) took 3.7s, 144292 effective words/s\n",
            "2023-05-19 16:17:58,327 : INFO : EPOCH 4 - PROGRESS: at 26.93% examples, 142456 words/s, in_qsize 0, out_qsize 0\n",
            "2023-05-19 16:18:00,827 : INFO : EPOCH 4: training on 1372110 raw words (528214 effective words) took 3.5s, 149541 effective words/s\n",
            "2023-05-19 16:18:01,866 : INFO : EPOCH 5 - PROGRESS: at 29.23% examples, 153581 words/s, in_qsize 0, out_qsize 0\n",
            "2023-05-19 16:18:04,256 : INFO : EPOCH 5: training on 1372110 raw words (528680 effective words) took 3.4s, 154364 effective words/s\n",
            "2023-05-19 16:18:05,274 : INFO : EPOCH 6 - PROGRESS: at 28.46% examples, 153391 words/s, in_qsize 0, out_qsize 0\n",
            "2023-05-19 16:18:07,884 : INFO : EPOCH 6: training on 1372110 raw words (528410 effective words) took 3.6s, 145997 effective words/s\n",
            "2023-05-19 16:18:08,893 : INFO : EPOCH 7 - PROGRESS: at 28.46% examples, 154053 words/s, in_qsize 0, out_qsize 0\n",
            "2023-05-19 16:18:11,237 : INFO : EPOCH 7: training on 1372110 raw words (528027 effective words) took 3.3s, 157662 effective words/s\n",
            "2023-05-19 16:18:12,266 : INFO : EPOCH 8 - PROGRESS: at 29.23% examples, 154669 words/s, in_qsize 0, out_qsize 0\n",
            "2023-05-19 16:18:14,740 : INFO : EPOCH 8: training on 1372110 raw words (527997 effective words) took 3.5s, 150870 effective words/s\n",
            "2023-05-19 16:18:15,759 : INFO : EPOCH 9 - PROGRESS: at 28.46% examples, 153484 words/s, in_qsize 1, out_qsize 0\n",
            "2023-05-19 16:18:18,156 : INFO : EPOCH 9: training on 1372110 raw words (528449 effective words) took 3.4s, 155157 effective words/s\n",
            "2023-05-19 16:18:19,184 : INFO : EPOCH 10 - PROGRESS: at 29.23% examples, 155574 words/s, in_qsize 0, out_qsize 0\n",
            "2023-05-19 16:18:21,716 : INFO : EPOCH 10: training on 1372110 raw words (527812 effective words) took 3.6s, 148610 effective words/s\n",
            "2023-05-19 16:18:22,724 : INFO : EPOCH 11 - PROGRESS: at 27.71% examples, 150805 words/s, in_qsize 1, out_qsize 0\n",
            "2023-05-19 16:18:25,196 : INFO : EPOCH 11: training on 1372110 raw words (528719 effective words) took 3.5s, 152118 effective words/s\n",
            "2023-05-19 16:18:26,200 : INFO : EPOCH 12 - PROGRESS: at 27.71% examples, 150625 words/s, in_qsize 0, out_qsize 0\n",
            "2023-05-19 16:18:28,623 : INFO : EPOCH 12: training on 1372110 raw words (528351 effective words) took 3.4s, 154346 effective words/s\n",
            "2023-05-19 16:18:29,639 : INFO : EPOCH 13 - PROGRESS: at 28.46% examples, 153207 words/s, in_qsize 0, out_qsize 0\n",
            "2023-05-19 16:18:32,195 : INFO : EPOCH 13: training on 1372110 raw words (528661 effective words) took 3.6s, 148164 effective words/s\n",
            "2023-05-19 16:18:33,207 : INFO : EPOCH 14 - PROGRESS: at 29.23% examples, 158313 words/s, in_qsize 0, out_qsize 0\n",
            "2023-05-19 16:18:35,548 : INFO : EPOCH 14: training on 1372110 raw words (528967 effective words) took 3.3s, 158198 effective words/s\n",
            "2023-05-19 16:18:36,577 : INFO : EPOCH 15 - PROGRESS: at 28.46% examples, 151127 words/s, in_qsize 0, out_qsize 0\n",
            "2023-05-19 16:18:38,907 : INFO : EPOCH 15: training on 1372110 raw words (527993 effective words) took 3.4s, 157386 effective words/s\n",
            "2023-05-19 16:18:39,934 : INFO : EPOCH 16 - PROGRESS: at 29.23% examples, 155799 words/s, in_qsize 0, out_qsize 0\n",
            "2023-05-19 16:18:42,315 : INFO : EPOCH 16: training on 1372110 raw words (528058 effective words) took 3.4s, 155351 effective words/s\n",
            "2023-05-19 16:18:43,342 : INFO : EPOCH 17 - PROGRESS: at 21.40% examples, 114002 words/s, in_qsize 0, out_qsize 0\n",
            "2023-05-19 16:18:46,145 : INFO : EPOCH 17: training on 1372110 raw words (528263 effective words) took 3.8s, 138260 effective words/s\n",
            "2023-05-19 16:18:47,163 : INFO : EPOCH 18 - PROGRESS: at 24.14% examples, 129770 words/s, in_qsize 0, out_qsize 0\n",
            "2023-05-19 16:18:50,292 : INFO : EPOCH 18: training on 1372110 raw words (528225 effective words) took 4.1s, 127540 effective words/s\n",
            "2023-05-19 16:18:51,334 : INFO : EPOCH 19 - PROGRESS: at 20.78% examples, 108593 words/s, in_qsize 0, out_qsize 0\n",
            "2023-05-19 16:18:54,722 : INFO : EPOCH 19: training on 1372110 raw words (528290 effective words) took 4.4s, 119488 effective words/s\n",
            "2023-05-19 16:18:55,735 : INFO : EPOCH 20 - PROGRESS: at 19.53% examples, 104255 words/s, in_qsize 0, out_qsize 0\n",
            "2023-05-19 16:18:58,827 : INFO : EPOCH 20: training on 1372110 raw words (527875 effective words) took 4.1s, 128899 effective words/s\n",
            "2023-05-19 16:18:59,850 : INFO : EPOCH 21 - PROGRESS: at 25.46% examples, 137623 words/s, in_qsize 0, out_qsize 0\n",
            "2023-05-19 16:19:02,653 : INFO : EPOCH 21: training on 1372110 raw words (528528 effective words) took 3.8s, 138472 effective words/s\n",
            "2023-05-19 16:19:03,669 : INFO : EPOCH 22 - PROGRESS: at 24.81% examples, 134324 words/s, in_qsize 0, out_qsize 0\n",
            "2023-05-19 16:19:06,565 : INFO : EPOCH 22: training on 1372110 raw words (528514 effective words) took 3.9s, 135437 effective words/s\n",
            "2023-05-19 16:19:07,580 : INFO : EPOCH 23 - PROGRESS: at 20.12% examples, 106934 words/s, in_qsize 0, out_qsize 0\n",
            "2023-05-19 16:19:10,567 : INFO : EPOCH 23: training on 1372110 raw words (528839 effective words) took 4.0s, 132279 effective words/s\n",
            "2023-05-19 16:19:11,576 : INFO : EPOCH 24 - PROGRESS: at 24.14% examples, 131326 words/s, in_qsize 0, out_qsize 1\n",
            "2023-05-19 16:19:14,487 : INFO : EPOCH 24: training on 1372110 raw words (527962 effective words) took 3.9s, 135017 effective words/s\n",
            "2023-05-19 16:19:14,487 : INFO : Word2Vec lifecycle event {'msg': 'training on 34302750 raw words (13208789 effective words) took 91.3s, 144681 effective words/s', 'datetime': '2023-05-19T16:19:14.487660', 'gensim': '4.3.1', 'python': '3.10.6 (main, Mar 10 2023, 10:55:28) [GCC 11.3.0]', 'platform': 'Linux-5.19.0-41-generic-x86_64-with-glibc2.35', 'event': 'train'}\n"
          ]
        },
        {
          "name": "stdout",
          "output_type": "stream",
          "text": [
            "Time to train the model: 1.52 mins\n"
          ]
        }
      ],
      "source": [
        "t = time()\n",
        "Simpsons.train(sentences, total_examples=Simpsons.corpus_count, epochs=25, report_delay=10)\n",
        "print('Time to train the model: {} mins'.format(round((time() - t) / 60, 2)))"
      ]
    },
    {
      "attachments": {},
      "cell_type": "markdown",
      "metadata": {},
      "source": [
        "#### NOTA: Falta entrenar FastText"
      ]
    },
    {
      "cell_type": "code",
      "execution_count": 133,
      "metadata": {},
      "outputs": [
        {
          "name": "stderr",
          "output_type": "stream",
          "text": [
            "/tmp/ipykernel_100396/125515796.py:2: DeprecationWarning: Call to deprecated `init_sims` (Gensim 4.0.0 implemented internal optimizations that make calls to init_sims() unnecessary. init_sims() is now obsoleted and will be completely removed in future versions. See https://github.com/RaRe-Technologies/gensim/wiki/Migrating-from-Gensim-3.x-to-4).\n",
            "  Simpsons.init_sims(replace=True)\n",
            "2023-05-19 16:19:20,248 : WARNING : destructive init_sims(replace=True) deprecated & no longer required for space-efficiency\n"
          ]
        }
      ],
      "source": [
        "#Ahora que terminamos de entrenar el modelo, le indicamos que no lo entrenaremos mas. Esto nos permitirá ejecutar eficientemente las tareas que realizaremos.\n",
        "Simpsons.init_sims(replace=True)"
      ]
    },
    {
      "attachments": {},
      "cell_type": "markdown",
      "metadata": {
        "id": "-Lr8U5wOTNcr"
      },
      "source": [
        "**Pregunta 2**: Encuentre las palabras mas similares a las siguientes: Lisa, Bart, Homer, Marge. Cúal es la diferencia entre ambos resultados? Por qué ocurre esto? Intente comparar ahora Liisa en ambos modelos (doble i). Cuando escogería uno vs el otro? **(0.5 puntos)**"
      ]
    },
    {
      "attachments": {},
      "cell_type": "markdown",
      "metadata": {
        "id": "yMLyGffVTNcs"
      },
      "source": [
        "**Respuesta**:"
      ]
    },
    {
      "cell_type": "code",
      "execution_count": 134,
      "metadata": {
        "id": "w6RvJGpbTNcs"
      },
      "outputs": [
        {
          "data": {
            "text/plain": [
              "[('Bart', 0.7668272852897644),\n",
              " ('Marge', 0.7249565720558167),\n",
              " ('Homer', 0.7183125615119934),\n",
              " ('Grampa', 0.661527693271637),\n",
              " ('Dad', 0.5695444345474243),\n",
              " ('Mom', 0.5656762719154358),\n",
              " ('Mona', 0.5489301085472107),\n",
              " ('Macbeth', 0.4326525926589966),\n",
              " ('Maggie', 0.43218734860420227),\n",
              " ('hippo', 0.4212038516998291)]"
            ]
          },
          "execution_count": 134,
          "metadata": {},
          "output_type": "execute_result"
        }
      ],
      "source": [
        "Simpsons.wv.most_similar(positive=[\"Lisa\"])"
      ]
    },
    {
      "cell_type": "code",
      "execution_count": 135,
      "metadata": {},
      "outputs": [
        {
          "data": {
            "text/plain": [
              "[('Lisa', 0.7668273448944092),\n",
              " ('Homer', 0.7004038095474243),\n",
              " ('Grampa', 0.6456120014190674),\n",
              " ('Marge', 0.596946120262146),\n",
              " ('Dad', 0.5533592700958252),\n",
              " ('Mom', 0.5386731624603271),\n",
              " ('Whatd', 0.45966455340385437),\n",
              " ('Lis', 0.45413124561309814),\n",
              " ('Mona', 0.45376166701316833),\n",
              " ('dentist', 0.43352335691452026)]"
            ]
          },
          "execution_count": 135,
          "metadata": {},
          "output_type": "execute_result"
        }
      ],
      "source": [
        "Simpsons.wv.most_similar(positive=[\"Bart\"])"
      ]
    },
    {
      "cell_type": "code",
      "execution_count": 136,
      "metadata": {},
      "outputs": [
        {
          "data": {
            "text/plain": [
              "[('Marge', 0.7615135908126831),\n",
              " ('Grampa', 0.750906229019165),\n",
              " ('Lisa', 0.7183126211166382),\n",
              " ('Bart', 0.7004038095474243),\n",
              " ('Mona', 0.4953669309616089),\n",
              " ('honey', 0.45786911249160767),\n",
              " ('hippo', 0.428343802690506),\n",
              " ('brownie', 0.42758703231811523),\n",
              " ('Herb', 0.4199666976928711),\n",
              " ('Doc', 0.4162862300872803)]"
            ]
          },
          "execution_count": 136,
          "metadata": {},
          "output_type": "execute_result"
        }
      ],
      "source": [
        "Simpsons.wv.most_similar(positive=[\"Homer\"])"
      ]
    },
    {
      "cell_type": "code",
      "execution_count": 137,
      "metadata": {},
      "outputs": [
        {
          "data": {
            "text/plain": [
              "[('Homer', 0.7615135908126831),\n",
              " ('Lisa', 0.7249566316604614),\n",
              " ('Grampa', 0.6683892011642456),\n",
              " ('Homie', 0.6052965521812439),\n",
              " ('Mona', 0.5997169017791748),\n",
              " ('Bart', 0.596946120262146),\n",
              " ('honey', 0.5731984972953796),\n",
              " ('sweetie', 0.4978075623512268),\n",
              " ('Honey', 0.4702324867248535),\n",
              " ('Maggie', 0.4505022466182709)]"
            ]
          },
          "execution_count": 137,
          "metadata": {},
          "output_type": "execute_result"
        }
      ],
      "source": [
        "Simpsons.wv.most_similar(positive=[\"Marge\"])"
      ]
    },
    {
      "cell_type": "code",
      "execution_count": 138,
      "metadata": {},
      "outputs": [
        {
          "data": {
            "image/png": "[encoded data removed]",
            "text/plain": [
              "<Figure size 600x600 with 1 Axes>"
            ]
          },
          "metadata": {},
          "output_type": "display_data"
        }
      ],
      "source": [
        "#Podemos hacer un analisis pca de algunas plabras clave para ver como se distribuyen:\n",
        "from sklearn.decomposition import PCA\n",
        "import matplotlib.pyplot as plt\n",
        "\n",
        "def display_pca_scatterplot(model, words=None, sample=0):\n",
        "    if words == None:\n",
        "        if sample > 0:\n",
        "            words = np.random.choice(list(model.wv.index_to_key), sample)\n",
        "        else:\n",
        "            words = [word for word in model.wv.index_to_key]\n",
        "    \n",
        "    word_vectors = np.array([model.wv[word] for word in words])\n",
        "    \n",
        "    twodim = PCA().fit_transform(word_vectors)[:,:2]\n",
        "    \n",
        "    plt.figure(figsize=(6,6))\n",
        "    plt.scatter(twodim[:,0], twodim[:,1], edgecolors='k', c='r')\n",
        "    for word, (x,y) in zip(words, twodim):\n",
        "        plt.text(x+0.05, y+0.05, word)\n",
        "    plt.title(\"PCA Simpsons\")\n",
        "    plt.show()\n",
        "\n",
        "display_pca_scatterplot(Simpsons,\n",
        "                        [\"Homer\", \"Marge\", \"Bart\", \"Lisa\", \"Maggie\", \"Ned\", \"Milhouse\", \"Krusty\", \"Burns\", \"Moe\"])\n",
        "\n"
      ]
    },
    {
      "attachments": {},
      "cell_type": "markdown",
      "metadata": {},
      "source": [
        "NOTA: En el analisis pca puede observarse que Lisa esta cerca de Bart y Marge esta cerca de Homer. Ademas los miembros de la familia Simpsons esta cerca entre ellos"
      ]
    },
    {
      "attachments": {},
      "cell_type": "markdown",
      "metadata": {
        "id": "IRCB-jqgTNcs"
      },
      "source": [
        "### **Parte 4 (1 Punto): Aplicar embeddings para clasificar**"
      ]
    },
    {
      "attachments": {},
      "cell_type": "markdown",
      "metadata": {
        "id": "zlqzlJRSTNcs"
      },
      "source": [
        "Ahora utilizaremos los embeddings que acabamos de calcular para clasificar palabras basadas en su polaridad (positivas o negativas). \n",
        "\n",
        "Para esto ocuparemos el lexicón AFINN incluido en la tarea, que incluye una lista de palabras y un 1 si su connotación es positiva y un -1 si es negativa."
      ]
    },
    {
      "cell_type": "code",
      "execution_count": 139,
      "metadata": {
        "id": "CMskFDmHTNcs"
      },
      "outputs": [],
      "source": [
        "AFINN = 'data/AFINN_full.csv'\n",
        "df_afinn = pd.read_csv(AFINN, sep='\\t', header=None)"
      ]
    },
    {
      "attachments": {},
      "cell_type": "markdown",
      "metadata": {
        "id": "uaKl8hsCTNcs"
      },
      "source": [
        "Hint: Para w2v son esperables KeyErrors debido a que no todas las palabras del corpus de los simpsons tendrán una representación en AFINN. Pueden utilizar esta función auxiliar para filtrar las filas en el dataframe que no tienen embeddings (como w2v no tiene token UNK se deben ignorar)."
      ]
    },
    {
      "cell_type": "code",
      "execution_count": 140,
      "metadata": {
        "id": "tWSSuctiTNcs"
      },
      "outputs": [],
      "source": [
        "def try_apply(model,word):\n",
        "    try:\n",
        "        aux = model[word]\n",
        "        return True\n",
        "    except KeyError:\n",
        "        #logger.error('Word {} not in dictionary'.format(word))\n",
        "        return False"
      ]
    },
    {
      "cell_type": "code",
      "execution_count": 143,
      "metadata": {},
      "outputs": [
        {
          "data": {
            "text/html": [
              "<div>\n",
              "<style scoped>\n",
              "    .dataframe tbody tr th:only-of-type {\n",
              "        vertical-align: middle;\n",
              "    }\n",
              "\n",
              "    .dataframe tbody tr th {\n",
              "        vertical-align: top;\n",
              "    }\n",
              "\n",
              "    .dataframe thead th {\n",
              "        text-align: right;\n",
              "    }\n",
              "</style>\n",
              "<table border=\"1\" class=\"dataframe\">\n",
              "  <thead>\n",
              "    <tr style=\"text-align: right;\">\n",
              "      <th></th>\n",
              "      <th>score</th>\n",
              "    </tr>\n",
              "    <tr>\n",
              "      <th>word</th>\n",
              "      <th></th>\n",
              "    </tr>\n",
              "  </thead>\n",
              "  <tbody>\n",
              "    <tr>\n",
              "      <th>tops</th>\n",
              "      <td>1</td>\n",
              "    </tr>\n",
              "    <tr>\n",
              "      <th>wasting</th>\n",
              "      <td>-1</td>\n",
              "    </tr>\n",
              "    <tr>\n",
              "      <th>complaining</th>\n",
              "      <td>-1</td>\n",
              "    </tr>\n",
              "    <tr>\n",
              "      <th>super</th>\n",
              "      <td>1</td>\n",
              "    </tr>\n",
              "    <tr>\n",
              "      <th>loving</th>\n",
              "      <td>1</td>\n",
              "    </tr>\n",
              "    <tr>\n",
              "      <th>...</th>\n",
              "      <td>...</td>\n",
              "    </tr>\n",
              "    <tr>\n",
              "      <th>awaits</th>\n",
              "      <td>-1</td>\n",
              "    </tr>\n",
              "    <tr>\n",
              "      <th>fool</th>\n",
              "      <td>-1</td>\n",
              "    </tr>\n",
              "    <tr>\n",
              "      <th>attractive</th>\n",
              "      <td>1</td>\n",
              "    </tr>\n",
              "    <tr>\n",
              "      <th>admire</th>\n",
              "      <td>1</td>\n",
              "    </tr>\n",
              "    <tr>\n",
              "      <th>bold</th>\n",
              "      <td>1</td>\n",
              "    </tr>\n",
              "  </tbody>\n",
              "</table>\n",
              "<p>899 rows × 1 columns</p>\n",
              "</div>"
            ],
            "text/plain": [
              "             score\n",
              "word              \n",
              "tops             1\n",
              "wasting         -1\n",
              "complaining     -1\n",
              "super            1\n",
              "loving           1\n",
              "...            ...\n",
              "awaits          -1\n",
              "fool            -1\n",
              "attractive       1\n",
              "admire           1\n",
              "bold             1\n",
              "\n",
              "[899 rows x 1 columns]"
            ]
          },
          "execution_count": 143,
          "metadata": {},
          "output_type": "execute_result"
        }
      ],
      "source": [
        "#Aplicamos la funcion try_apply para filtrar las palabras que no estan en el modelo de word2vec Simpsons:\n",
        "df_afinn['in_model'] = df_afinn[0].apply(lambda x: try_apply(Simpsons.wv,x))\n",
        "df_afinn = df_afinn[df_afinn['in_model'] == True]\n",
        "df_afinn = df_afinn.drop('in_model', axis=1)\n",
        "df_afinn.columns = ['word', 'score']\n",
        "df_afinn = df_afinn.set_index('word')\n",
        "df_afinn"
      ]
    },
    {
      "cell_type": "code",
      "execution_count": null,
      "metadata": {},
      "outputs": [],
      "source": []
    },
    {
      "attachments": {},
      "cell_type": "markdown",
      "metadata": {
        "id": "LrVPeEzgTNcs"
      },
      "source": [
        "**Pregunta 1**: Transforme las palabras del corpus de AFINN a la representación en embedding que acabamos de calcular (con ambos modelos). \n",
        "\n",
        "Su dataframe final debe ser del estilo [embedding, sentimiento], donde los embeddings corresponden a $X$ y el sentimiento asociado con el embedding a $y$ (positivo/negativo, 1/-1). \n",
        "\n",
        "Para ambos modelos, separar train y test de acuerdo a la siguiente función. **(0.75 puntos)**"
      ]
    },
    {
      "cell_type": "code",
      "execution_count": 165,
      "metadata": {
        "id": "0Bkt26BwTNcs"
      },
      "outputs": [],
      "source": [
        "X_train, X_test, y_train, y_test = train_test_split(df_afinn.index.values, df_afinn['score'].values, random_state=0, test_size=0.1, stratify=df_afinn['score'].values)\n"
      ]
    },
    {
      "attachments": {},
      "cell_type": "markdown",
      "metadata": {
        "id": "iDcq5czXTNct"
      },
      "source": [
        "**Respuesta**:"
      ]
    },
    {
      "attachments": {},
      "cell_type": "markdown",
      "metadata": {
        "id": "kDKe4gA3TNct"
      },
      "source": [
        "**Pregunta 2**: Entrenar una regresión logística (vista en auxiliar) y reportar accuracy, precision, recall, f1 y confusion_matrix para ambos modelos. Por qué se obtienen estos resultados? Cómo los mejorarías? **(0.75 puntos)**"
      ]
    },
    {
      "cell_type": "code",
      "execution_count": 171,
      "metadata": {},
      "outputs": [
        {
          "name": "stdout",
          "output_type": "stream",
          "text": [
            "              precision    recall  f1-score   support\n",
            "\n",
            "          -1       0.75      0.86      0.80        51\n",
            "           1       0.77      0.62      0.69        39\n",
            "\n",
            "    accuracy                           0.76        90\n",
            "   macro avg       0.76      0.74      0.74        90\n",
            "weighted avg       0.76      0.76      0.75        90\n",
            "\n"
          ]
        }
      ],
      "source": [
        "#Entrenamos un modelo de clasificacion con regresion logistica, suando como features los vectores de word2vec:\n",
        "from sklearn.linear_model import LogisticRegression\n",
        "from sklearn.metrics import accuracy_score, precision_score, recall_score, f1_score, roc_auc_score, confusion_matrix, cohen_kappa_score, classification_report\n",
        "\n",
        "def train_model(model, X_train, y_train, X_test, y_test):\n",
        "    model.fit(X_train, y_train)\n",
        "    y_pred = model.predict(X_test)\n",
        "    print(classification_report(y_test, y_pred))\n",
        "\n",
        "model = LogisticRegression()\n",
        "train_model(model, Simpsons.wv[X_train], y_train, Simpsons.wv[X_test], y_test)\n",
        "\n"
      ]
    },
    {
      "attachments": {},
      "cell_type": "markdown",
      "metadata": {
        "id": "hJMzq_dETNct"
      },
      "source": [
        "**Respuesta**:"
      ]
    },
    {
      "attachments": {},
      "cell_type": "markdown",
      "metadata": {
        "id": "izppruGQTNct"
      },
      "source": [
        "# Bonus: +0.25 puntos en cualquier pregunta"
      ]
    },
    {
      "attachments": {},
      "cell_type": "markdown",
      "metadata": {
        "id": "YW0aeK2KTNct"
      },
      "source": [
        "**Pregunta 1**: Replicar la parte anterior utilizando embeddings pre-entrenados en un dataset más grande y obtener mejores resultados. Les puede servir [ésta](https://radimrehurek.com/gensim/downloader.html#module-gensim.downloader) documentacion de gensim **(0.25 puntos)**."
      ]
    },
    {
      "attachments": {},
      "cell_type": "markdown",
      "metadata": {
        "id": "qvHcVS3sTNct"
      },
      "source": [
        "**Respuesta**:"
      ]
    },
    {
      "cell_type": "code",
      "execution_count": null,
      "metadata": {
        "id": "MSc8p-T8TNcu"
      },
      "outputs": [],
      "source": []
    }
  ],
  "metadata": {
    "colab": {
      "provenance": []
    },
    "kernelspec": {
      "display_name": "Python 3",
      "language": "python",
      "name": "python3"
    },
    "language_info": {
      "codemirror_mode": {
        "name": "ipython",
        "version": 3
      },
      "file_extension": ".py",
      "mimetype": "text/x-python",
      "name": "python",
      "nbconvert_exporter": "python",
      "pygments_lexer": "ipython3",
      "version": "3.10.6"
    }
  },
  "nbformat": 4,
  "nbformat_minor": 0
}
