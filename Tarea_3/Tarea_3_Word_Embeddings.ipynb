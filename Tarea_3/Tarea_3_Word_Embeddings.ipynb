{
  "cells": [
    {
      "attachments": {},
      "cell_type": "markdown",
      "metadata": {
        "id": "Ckbt7VPDhBwb"
      },
      "source": [
        "# **Tarea 3 - Word Embeddings 📚**\n",
        "\n",
        "**Integrantes:**\n",
        "\n",
        "**Fecha límite de entrega 📆:** 16 de mayo.\n",
        "\n",
        "**Tiempo estimado de dedicación:**"
      ]
    },
    {
      "attachments": {},
      "cell_type": "markdown",
      "metadata": {
        "ExecuteTime": {
          "end_time": "2020-03-19T18:30:18.109327Z",
          "start_time": "2020-03-19T18:30:18.103344Z"
        },
        "id": "q5CSRY4oNCHK"
      },
      "source": [
        "\n",
        "**Instrucciones:**\n",
        "- El ejercicio consiste en:\n",
        "    - Responder preguntas relativas a los contenidos vistos en los vídeos y slides de las clases.\n",
        "    - Implementar el método de la Word Context Matrix. \n",
        "    - Entrenar Word2Vec y FastText sobre un pequeño corpus.\n",
        "    - Evaluar los embeddings obtenidos en una tarea de clasificación.\n",
        "- La tarea se realiza en grupos de **máximo** 2 personas. Puede ser invidivual pero no es recomendable.\n",
        "- La entrega es a través de u-cursos a más tardar el día estipulado arriba. No se aceptan atrasos.\n",
        "- El formato de entrega es este mismo **Jupyter Notebook**.\n",
        "- Al momento de la revisión tu código será ejecutado. Por favor verifica que tu entrega no tenga errores de compilación. \n",
        "\n",
        "\n",
        "**Referencias**\n",
        "\n",
        "Vídeos: \n",
        "\n",
        "- [Linear Models](https://youtu.be/zhBxDsNLZEA)\n",
        "- [Neural Networks](https://youtu.be/oHZHA8h2xN0)\n",
        "- [Word Embeddings](https://youtu.be/wtwUsJMC9CA)"
      ]
    },
    {
      "attachments": {},
      "cell_type": "markdown",
      "metadata": {
        "id": "G4wYf0vgnbTv"
      },
      "source": [
        "## **Preguntas teóricas 📕 (3 puntos).** ##\n",
        "Para estas preguntas no es necesario implementar código, pero pueden utilizar pseudo código."
      ]
    },
    {
      "attachments": {},
      "cell_type": "markdown",
      "metadata": {
        "id": "B5hUG6-8ngoK"
      },
      "source": [
        "### **Parte 1: Modelos Lineales (1.5 ptos)**"
      ]
    },
    {
      "attachments": {},
      "cell_type": "markdown",
      "metadata": {
        "id": "5yRvZbhsoi8f"
      },
      "source": [
        "Suponga que tiene un dataset de 10.000 documentos etiquetados por 4 categorías: política, deporte, negocios y otros. "
      ]
    },
    {
      "attachments": {},
      "cell_type": "markdown",
      "metadata": {
        "id": "irsqBVmCnx3M"
      },
      "source": [
        "**Pregunta 1**: Diseñe un modelo lineal capaz de clasificar un documento según estas categorías donde el output sea un vector con una distribución de probabilidad con la pertenencia a cada clase. \n",
        "\n",
        "Especifique: representación de los documentos de entrada, parámetros del modelo, transformaciones necesarias para obtener la probabilidad de cada etiqueta y función de pérdida escogida. **(0.75 puntos)**\n",
        "\n",
        "**Respuesta**: \n"
      ]
    },
    {
      "attachments": {},
      "cell_type": "markdown",
      "metadata": {
        "id": "G5FaWqBVvL90"
      },
      "source": [
        "**Pregunta 2**: Explique cómo funciona el proceso de entrenamiento en este tipo de modelos y su evaluación. **(0.75 puntos)**\n",
        "\n",
        "**Respuesta**: "
      ]
    },
    {
      "attachments": {},
      "cell_type": "markdown",
      "metadata": {
        "id": "XkK7pc54njZq"
      },
      "source": [
        "### **Parte 2: Redes Neuronales (1.5 ptos)** "
      ]
    },
    {
      "attachments": {},
      "cell_type": "markdown",
      "metadata": {
        "id": "VUbJjlj_9AFC"
      },
      "source": [
        "Supongamos que tenemos la siguiente red neuronal."
      ]
    },
    {
      "attachments": {},
      "cell_type": "markdown",
      "metadata": {
        "id": "obUfuOYB_TOC"
      },
      "source": [
        "![image.png](https://drive.google.com/uc?export=view&id=1nV1G0dOeVGPn40qGcGF9l_pVEFNtLU-w)"
      ]
    },
    {
      "attachments": {},
      "cell_type": "markdown",
      "metadata": {
        "id": "s2z-8zKW0_6q"
      },
      "source": [
        "**Pregunta 1**: En clases les explicaron como se puede representar una red neuronal de una y dos capas de manera matemática. Dada la red neuronal anterior, defina la salida $\\vec{\\hat{y}}$ en función del vector $\\vec{x}$, pesos $W^i$, bias $b^i$ y funciones $g,f,h$. \n",
        "\n",
        "Adicionalmente liste y explicite las dimensiones de cada matriz y vector involucrado en la red neuronal. **(0.75 Puntos)**\n",
        "\n",
        "**Respuesta**: \n",
        "\n",
        "Formula:\n",
        "$\\vec{\\hat{y}} = NN_{MLP3}(\\vec{x}) =$\n",
        "\n",
        "Dimensiones: \n",
        "\n",
        "**Pregunta 2**: Explique qué es backpropagation. ¿Cuales serían los parámetros a evaluar en la red neuronal anterior durante backpropagation? **(0.25 puntos)**\n",
        "\n",
        "**Respuesta**:\n",
        "\n",
        "**Pregunta 3**: Explique los pasos de backpropagation. En la red neuronal anterior: Cuales son las derivadas que debemos calcular para poder obtener $\\vec{\\delta^l_{[j]}}$ en todas las capas? **(0.5 puntos)**\n",
        "\n",
        "**Respuesta**:"
      ]
    },
    {
      "attachments": {},
      "cell_type": "markdown",
      "metadata": {
        "id": "ocS_vQhR1gcU"
      },
      "source": [
        "## **Preguntas prácticas 💻 (3 puntos).** ##"
      ]
    },
    {
      "attachments": {},
      "cell_type": "markdown",
      "metadata": {
        "id": "D0wk5GBkSE73"
      },
      "source": [
        "### Parte 3 A (1 Punto): Word Contex Matrix"
      ]
    },
    {
      "attachments": {},
      "cell_type": "markdown",
      "metadata": {
        "id": "e_mh12Z9SF-J"
      },
      "source": [
        "\n",
        "\n",
        "En esta parte debe crear una matriz palabra contexto, para esto, complete el siguiente template (para esta parte puede utilizar las librerías ```numpy``` y/o ```scipy```). Hint: revise como utilizar matrices sparse de ```scipy```\n",
        "\n",
        "```python\n",
        "class WordContextMatrix:\n",
        "\n",
        "  def __init__(self, vocab_size, window_size, dataset, tokenizer):\n",
        "    \"\"\"\n",
        "    Utilice el constructor para definir los parametros.\n",
        "    \"\"\"\n",
        "\n",
        "    # se sugiere agregar un una estructura de datos para guardar las\n",
        "    # palabras del vocab y para guardar el conteo de coocurrencia\n",
        "    # si lo necesita puede agregar más parametros pero no puede cambiar el resto\n",
        "    ...\n",
        "    \n",
        "  def build_vocab(self):\n",
        "    \"\"\"\n",
        "    Utilice este método para construir el vocabulario\n",
        "    \"\"\"\n",
        "    \n",
        "\n",
        "    # Le puede ser útil considerar un token unk al vocab\n",
        "    # para palabras fuera del vocab\n",
        "    ...\n",
        "  \n",
        "  def build_matrix(self):\n",
        "    \"\"\"\n",
        "    Utilice este método para crear la palabra contexto\n",
        "    \"\"\"\n",
        "    ...\n",
        "\n",
        "  def get_matrix(self):\n",
        "    \"\"\"\n",
        "    Utilice este método para obtener la matriz palabra contexto. \n",
        "    \"\"\"\n",
        "\n",
        "    # se recomienda transformar la matrix a un diccionario de embedding.\n",
        "    # por ejemplo {palabra1:vec1, palabra2:vec2, ...}\n",
        "    ...\n",
        "\n",
        "```\n",
        "\n",
        "puede modificar los parámetros o métodos si lo considera necesario. Para probar la matrix puede utilizar el siguiente corpus.\n",
        "\n",
        "```python\n",
        "corpus = [\n",
        "  \"I like deep learning.\",\n",
        "  \"I like NLP.\",\n",
        "  \"I enjoy flying.\"\n",
        "]\n",
        "```\n",
        "\n",
        "Obteniendo una matriz parecia a esta:\n",
        "\n",
        "***Resultado esperado***: \n",
        "\n",
        "| counts   | I  | like | enjoy | deep | learning | NLP | flying | . |   \n",
        "|----------|---:|-----:|------:|-----:|---------:|----:|-------:|--:|\n",
        "| I        | 0  |  2   |  1    |    0 |  0       |   0 | 0      | 0|            \n",
        "| like     |  2 |    0 |  0    |    1 |  0       |   1 | 0      | 0 | \n",
        "| enjoy    |  1 |    0 |  0    |    0 |  0       |   0 | 1      | 0 |\n",
        "| deep     |  0 |    1 |  0    |    0 |  1       |   0 | 0      | 0 |  \n",
        "| learning |  0 |    0 |  0    |    1 |  0       |   0 | 0      | 1 |          \n",
        "| NLP      |  0 |    1 |  0    |    0 |  0       |   0 | 0      | 1 |\n",
        "| flying   |  0 |    0 |  1    |    0 |  0       |   0 | 0      | 1 | \n",
        "| .        |  0 |    0 |  0    |    0 |  1       |   1 | 1      | 0 | \n",
        "\n",
        "``\n",
        "\n",
        "Verifique si su matrix es igual a esta utilizando el corpus de ejemplo. Ojo que este es sólo un ejemplo, su algoritmo debe **generalizar** a otros ejemplos."
      ]
    },
    {
      "cell_type": "code",
      "execution_count": 7,
      "metadata": {},
      "outputs": [],
      "source": [
        "corpus = [\n",
        "  \"I like deep learning.\",\n",
        "  \"I like NLP.\",\n",
        "  \"I enjoy flying.\"\n",
        "]"
      ]
    },
    {
      "cell_type": "code",
      "execution_count": null,
      "metadata": {},
      "outputs": [],
      "source": []
    },
    {
      "cell_type": "code",
      "execution_count": 108,
      "metadata": {},
      "outputs": [],
      "source": [
        "#definimos duncion tokenizer for every sentence:\n",
        "def tokenizer(sentence):\n",
        "\n",
        "    tokens = sentence.split()\n",
        "\n",
        "    return tokens\n"
      ]
    },
    {
      "cell_type": "code",
      "execution_count": 143,
      "metadata": {},
      "outputs": [],
      "source": [
        "import numpy as np\n",
        "\n",
        "class WordContextMatrix:\n",
        "\n",
        "  def __init__(self, vocab_size, window_size, dataset, tokenizer):\n",
        "\n",
        "    self.vocab_size = vocab_size\n",
        "    self.window_size = window_size\n",
        "    self.dataset = dataset\n",
        "    self.tokenizer = tokenizer\n",
        "    self.matrix = np.zeros((vocab_size, vocab_size))\n",
        "\n",
        "  #Definimos la función para construir el vocabulario:\n",
        "  def build_vocab(self):\n",
        "    vocab = []\n",
        "    for sentence in self.dataset:\n",
        "      for word in self.tokenizer(sentence):\n",
        "        vocab.append(word)\n",
        "    return list(set(vocab))\n",
        "  \n",
        "  #Definimos la función para construir la matriz de contexto:\n",
        "  def build_matrix(self):\n",
        "    vocab = self.build_vocab()\n",
        "    for sentence in self.dataset:\n",
        "      for i in range(0, len(self.tokenizer(sentence))):\n",
        "        for j in range(i - self.window_size, i + self.window_size + 1):\n",
        "          if j >= 0 and j < len(self.tokenizer(sentence)) and j != i:\n",
        "            #print('w=', self.tokenizer(sentence)[i], 'context=', self.tokenizer(sentence)[j], i, j)\n",
        "            self.matrix[vocab.index(self.tokenizer(sentence)[i])][vocab.index(self.tokenizer(sentence)[j])] += 1\n",
        "    return self.matrix\n",
        "  \n",
        "  #Definimos la función para obtener la matriz de contexto:\n",
        "  def get_matrix(self):\n",
        "    return self.matrix\n",
        "\n"
      ]
    },
    {
      "cell_type": "code",
      "execution_count": 145,
      "metadata": {},
      "outputs": [
        {
          "name": "stdout",
          "output_type": "stream",
          "text": [
            "['I', 'enjoy', 'like', 'flying.', 'NLP.', 'learning.', 'deep']\n",
            "14\n"
          ]
        },
        {
          "data": {
            "text/html": [
              "<div>\n",
              "<style scoped>\n",
              "    .dataframe tbody tr th:only-of-type {\n",
              "        vertical-align: middle;\n",
              "    }\n",
              "\n",
              "    .dataframe tbody tr th {\n",
              "        vertical-align: top;\n",
              "    }\n",
              "\n",
              "    .dataframe thead th {\n",
              "        text-align: right;\n",
              "    }\n",
              "</style>\n",
              "<table border=\"1\" class=\"dataframe\">\n",
              "  <thead>\n",
              "    <tr style=\"text-align: right;\">\n",
              "      <th></th>\n",
              "      <th>I</th>\n",
              "      <th>enjoy</th>\n",
              "      <th>like</th>\n",
              "      <th>flying.</th>\n",
              "      <th>NLP.</th>\n",
              "      <th>learning.</th>\n",
              "      <th>deep</th>\n",
              "    </tr>\n",
              "  </thead>\n",
              "  <tbody>\n",
              "    <tr>\n",
              "      <th>I</th>\n",
              "      <td>0</td>\n",
              "      <td>1</td>\n",
              "      <td>2</td>\n",
              "      <td>0</td>\n",
              "      <td>0</td>\n",
              "      <td>0</td>\n",
              "      <td>0</td>\n",
              "    </tr>\n",
              "    <tr>\n",
              "      <th>enjoy</th>\n",
              "      <td>1</td>\n",
              "      <td>0</td>\n",
              "      <td>0</td>\n",
              "      <td>1</td>\n",
              "      <td>0</td>\n",
              "      <td>0</td>\n",
              "      <td>0</td>\n",
              "    </tr>\n",
              "    <tr>\n",
              "      <th>like</th>\n",
              "      <td>2</td>\n",
              "      <td>0</td>\n",
              "      <td>0</td>\n",
              "      <td>0</td>\n",
              "      <td>1</td>\n",
              "      <td>0</td>\n",
              "      <td>1</td>\n",
              "    </tr>\n",
              "    <tr>\n",
              "      <th>flying.</th>\n",
              "      <td>0</td>\n",
              "      <td>1</td>\n",
              "      <td>0</td>\n",
              "      <td>0</td>\n",
              "      <td>0</td>\n",
              "      <td>0</td>\n",
              "      <td>0</td>\n",
              "    </tr>\n",
              "    <tr>\n",
              "      <th>NLP.</th>\n",
              "      <td>0</td>\n",
              "      <td>0</td>\n",
              "      <td>1</td>\n",
              "      <td>0</td>\n",
              "      <td>0</td>\n",
              "      <td>0</td>\n",
              "      <td>0</td>\n",
              "    </tr>\n",
              "    <tr>\n",
              "      <th>learning.</th>\n",
              "      <td>0</td>\n",
              "      <td>0</td>\n",
              "      <td>0</td>\n",
              "      <td>0</td>\n",
              "      <td>0</td>\n",
              "      <td>0</td>\n",
              "      <td>1</td>\n",
              "    </tr>\n",
              "    <tr>\n",
              "      <th>deep</th>\n",
              "      <td>0</td>\n",
              "      <td>0</td>\n",
              "      <td>1</td>\n",
              "      <td>0</td>\n",
              "      <td>0</td>\n",
              "      <td>1</td>\n",
              "      <td>0</td>\n",
              "    </tr>\n",
              "  </tbody>\n",
              "</table>\n",
              "</div>"
            ],
            "text/plain": [
              "           I  enjoy  like  flying.  NLP.  learning.  deep\n",
              "I          0      1     2        0     0          0     0\n",
              "enjoy      1      0     0        1     0          0     0\n",
              "like       2      0     0        0     1          0     1\n",
              "flying.    0      1     0        0     0          0     0\n",
              "NLP.       0      0     1        0     0          0     0\n",
              "learning.  0      0     0        0     0          0     1\n",
              "deep       0      0     1        0     0          1     0"
            ]
          },
          "execution_count": 145,
          "metadata": {},
          "output_type": "execute_result"
        }
      ],
      "source": [
        "context_matrix = WordContextMatrix(7, 1, corpus, tokenizer) # Tamaño del volabulario se define manualmente ej: 7\n",
        "\n",
        "print(context_matrix.build_vocab()[0:10])\n",
        "\n",
        "CM = context_matrix.build_matrix()\n",
        "#Imprimimos la suma de elentos de CM en int:\n",
        "print(np.sum(CM, dtype=int))\n",
        "\n",
        "#add the matrix to a dataframe including vicabulary as index and columns:\n",
        "import pandas as pd\n",
        "df = pd.DataFrame(CM, index=context_matrix.build_vocab()[0:10], columns=context_matrix.build_vocab()[0:10], dtype=int)\n",
        "df\n",
        "\n"
      ]
    },
    {
      "attachments": {},
      "cell_type": "markdown",
      "metadata": {
        "id": "Ol82nJ0FnmcP"
      },
      "source": [
        "### **Parte 3 B (1 Punto): Word Embeddings**"
      ]
    },
    {
      "attachments": {},
      "cell_type": "markdown",
      "metadata": {
        "id": "OgmeSFqKLpFL"
      },
      "source": [
        "En la auxiliar 2 aprendieron como entrenar Word2Vec utilizando gensim. El objetivo de esta parte es comparar los embeddings obtenidos con dos modelos \n",
        "diferentes: Word2Vec y [FastText](https://radimrehurek.com/gensim/models/fasttext.html) (utilizen size=200 en FastText) entrenados en el mismo dataset de diálogos de los Simpson. "
      ]
    },
    {
      "attachments": {},
      "cell_type": "markdown",
      "metadata": {
        "id": "CgSlIxJW36ZA"
      },
      "source": [
        "# Sección nueva"
      ]
    },
    {
      "cell_type": "code",
      "execution_count": 2,
      "metadata": {
        "id": "ecCvnryeQiG7"
      },
      "outputs": [
        {
          "name": "stderr",
          "output_type": "stream",
          "text": [
            "/usr/lib/python3/dist-packages/paramiko/transport.py:236: CryptographyDeprecationWarning: Blowfish has been deprecated\n",
            "  \"class\": algorithms.Blowfish,\n"
          ]
        }
      ],
      "source": [
        "import re  \n",
        "import pandas as pd \n",
        "from time import time  \n",
        "from collections import defaultdict \n",
        "import string \n",
        "import multiprocessing\n",
        "import os\n",
        "import gensim\n",
        "import sklearn\n",
        "from sklearn import linear_model\n",
        "from collections import Counter\n",
        "import numpy as np\n",
        "from sklearn.metrics import accuracy_score, precision_score, recall_score, f1_score, roc_auc_score, confusion_matrix, cohen_kappa_score, classification_report\n",
        "\n",
        "# word2vec\n",
        "from gensim.models import Word2Vec, KeyedVectors, FastText\n",
        "from gensim.models.phrases import Phrases, Phraser\n",
        "from sklearn.model_selection import train_test_split\n",
        "import logging\n",
        "\n",
        "logging.basicConfig(format='%(asctime)s : %(levelname)s : %(message)s', level=logging.INFO)\n",
        "logger = logging.getLogger(__name__)"
      ]
    },
    {
      "attachments": {},
      "cell_type": "markdown",
      "metadata": {
        "id": "tZgN06q4QPi3"
      },
      "source": [
        "Utilizando el dataset adjunto con la tarea:"
      ]
    },
    {
      "cell_type": "code",
      "execution_count": 3,
      "metadata": {
        "colab": {
          "base_uri": "https://localhost:8080/"
        },
        "id": "eY3kmg4onnsu",
        "outputId": "d3525a54-0c10-401e-b3e2-9c6e9e714a2c"
      },
      "outputs": [],
      "source": [
        "data_file = \"data/simpsons_dataset.csv\"\n",
        "df = pd.read_csv(data_file)\n",
        "stopwords = pd.read_csv(\n",
        "    'https://raw.githubusercontent.com/Alir3z4/stop-words/master/english.txt'\n",
        ").values\n",
        "stopwords = Counter(stopwords.flatten().tolist())\n",
        "df = df.dropna().reset_index(drop=True) # Quitar filas vacias"
      ]
    },
    {
      "cell_type": "code",
      "execution_count": 4,
      "metadata": {},
      "outputs": [
        {
          "data": {
            "text/html": [
              "<div>\n",
              "<style scoped>\n",
              "    .dataframe tbody tr th:only-of-type {\n",
              "        vertical-align: middle;\n",
              "    }\n",
              "\n",
              "    .dataframe tbody tr th {\n",
              "        vertical-align: top;\n",
              "    }\n",
              "\n",
              "    .dataframe thead th {\n",
              "        text-align: right;\n",
              "    }\n",
              "</style>\n",
              "<table border=\"1\" class=\"dataframe\">\n",
              "  <thead>\n",
              "    <tr style=\"text-align: right;\">\n",
              "      <th></th>\n",
              "      <th>raw_character_text</th>\n",
              "      <th>spoken_words</th>\n",
              "    </tr>\n",
              "  </thead>\n",
              "  <tbody>\n",
              "    <tr>\n",
              "      <th>0</th>\n",
              "      <td>Miss Hoover</td>\n",
              "      <td>No, actually, it was a little of both. Sometim...</td>\n",
              "    </tr>\n",
              "    <tr>\n",
              "      <th>1</th>\n",
              "      <td>Lisa Simpson</td>\n",
              "      <td>Where's Mr. Bergstrom?</td>\n",
              "    </tr>\n",
              "    <tr>\n",
              "      <th>2</th>\n",
              "      <td>Miss Hoover</td>\n",
              "      <td>I don't know. Although I'd sure like to talk t...</td>\n",
              "    </tr>\n",
              "    <tr>\n",
              "      <th>3</th>\n",
              "      <td>Lisa Simpson</td>\n",
              "      <td>That life is worth living.</td>\n",
              "    </tr>\n",
              "    <tr>\n",
              "      <th>4</th>\n",
              "      <td>Edna Krabappel-Flanders</td>\n",
              "      <td>The polls will be open from now until the end ...</td>\n",
              "    </tr>\n",
              "    <tr>\n",
              "      <th>...</th>\n",
              "      <td>...</td>\n",
              "      <td>...</td>\n",
              "    </tr>\n",
              "    <tr>\n",
              "      <th>131848</th>\n",
              "      <td>Miss Hoover</td>\n",
              "      <td>I'm back.</td>\n",
              "    </tr>\n",
              "    <tr>\n",
              "      <th>131849</th>\n",
              "      <td>Miss Hoover</td>\n",
              "      <td>You see, class, my Lyme disease turned out to ...</td>\n",
              "    </tr>\n",
              "    <tr>\n",
              "      <th>131850</th>\n",
              "      <td>Miss Hoover</td>\n",
              "      <td>Psy-cho-so-ma-tic.</td>\n",
              "    </tr>\n",
              "    <tr>\n",
              "      <th>131851</th>\n",
              "      <td>Ralph Wiggum</td>\n",
              "      <td>Does that mean you were crazy?</td>\n",
              "    </tr>\n",
              "    <tr>\n",
              "      <th>131852</th>\n",
              "      <td>JANEY</td>\n",
              "      <td>No, that means she was faking it.</td>\n",
              "    </tr>\n",
              "  </tbody>\n",
              "</table>\n",
              "<p>131853 rows × 2 columns</p>\n",
              "</div>"
            ],
            "text/plain": [
              "             raw_character_text  \\\n",
              "0                   Miss Hoover   \n",
              "1                  Lisa Simpson   \n",
              "2                   Miss Hoover   \n",
              "3                  Lisa Simpson   \n",
              "4       Edna Krabappel-Flanders   \n",
              "...                         ...   \n",
              "131848              Miss Hoover   \n",
              "131849              Miss Hoover   \n",
              "131850              Miss Hoover   \n",
              "131851             Ralph Wiggum   \n",
              "131852                    JANEY   \n",
              "\n",
              "                                             spoken_words  \n",
              "0       No, actually, it was a little of both. Sometim...  \n",
              "1                                  Where's Mr. Bergstrom?  \n",
              "2       I don't know. Although I'd sure like to talk t...  \n",
              "3                              That life is worth living.  \n",
              "4       The polls will be open from now until the end ...  \n",
              "...                                                   ...  \n",
              "131848                                          I'm back.  \n",
              "131849  You see, class, my Lyme disease turned out to ...  \n",
              "131850                                 Psy-cho-so-ma-tic.  \n",
              "131851                     Does that mean you were crazy?  \n",
              "131852                  No, that means she was faking it.  \n",
              "\n",
              "[131853 rows x 2 columns]"
            ]
          },
          "execution_count": 4,
          "metadata": {},
          "output_type": "execute_result"
        }
      ],
      "source": [
        "df"
      ]
    },
    {
      "attachments": {},
      "cell_type": "markdown",
      "metadata": {
        "id": "VAg5a5bmWk3T"
      },
      "source": [
        "**Pregunta 1**: Ayudándose de los pasos vistos en la auxiliar, entrene los modelos Word2Vec y FastText sobre el dataset anterior. **(1 punto)** (Hint, le puede servir explorar un poco los datos)"
      ]
    },
    {
      "attachments": {},
      "cell_type": "markdown",
      "metadata": {
        "id": "MWw2fXFRXe5Y"
      },
      "source": [
        "**Respuesta**:"
      ]
    },
    {
      "cell_type": "code",
      "execution_count": 5,
      "metadata": {
        "id": "Bvwplz7yTNcr"
      },
      "outputs": [
        {
          "data": {
            "text/plain": [
              "(131853,)"
            ]
          },
          "execution_count": 5,
          "metadata": {},
          "output_type": "execute_result"
        }
      ],
      "source": [
        "# unir titulo con contenido de la noticia\n",
        "content = df['raw_character_text'] + df['spoken_words']\n",
        "content.shape"
      ]
    },
    {
      "cell_type": "code",
      "execution_count": 6,
      "metadata": {},
      "outputs": [],
      "source": [
        "from collections import Counter\n",
        "\n",
        "# limpiar puntuaciones y separar por tokens.\n",
        "punctuation = string.punctuation + \"«»“”‘’…—\"\n",
        "stopwords = pd.read_csv(\n",
        "    'https://raw.githubusercontent.com/Alir3z4/stop-words/master/spanish.txt'\n",
        ").values\n",
        "stopwords = Counter(stopwords.flatten().tolist())\n",
        "\n",
        "def simple_tokenizer(doc, lower=False):\n",
        "    if lower:\n",
        "        tokenized_doc = doc.translate(str.maketrans(\n",
        "            '', '', punctuation)).lower().split()\n",
        "\n",
        "    tokenized_doc = doc.translate(str.maketrans('', '', punctuation)).split()\n",
        "    tokenized_doc = [\n",
        "        token for token in tokenized_doc if token.lower() not in stopwords\n",
        "    ]\n",
        "    return tokenized_doc"
      ]
    },
    {
      "cell_type": "code",
      "execution_count": 7,
      "metadata": {},
      "outputs": [
        {
          "name": "stdout",
          "output_type": "stream",
          "text": [
            "Ejemplo de alguna noticia: ['Lisa', 'SimpsonI', 'see', 'touched', 'you', 'too']\n"
          ]
        }
      ],
      "source": [
        "cleaned_content = [simple_tokenizer(doc) for doc in content.values]\n",
        "print(\"Ejemplo de alguna noticia: {}\".format(cleaned_content[14]))"
      ]
    },
    {
      "cell_type": "code",
      "execution_count": null,
      "metadata": {},
      "outputs": [],
      "source": [
        "# Phrases recibe una lista de oraciones, y junta bigramas que estén al menos 100 veces repetidos como un único token. Por ejemplo, \"new york\" se convierte en \"new_york\".\n",
        "phrases = Phrases(cleaned_content, min_count=100, progress_per=5000) "
      ]
    },
    {
      "cell_type": "code",
      "execution_count": 9,
      "metadata": {},
      "outputs": [
        {
          "name": "stderr",
          "output_type": "stream",
          "text": [
            "2023-05-19 16:53:13,451 : INFO : exporting phrases from Phrases<597019 vocab, min_count=100, threshold=10.0, max_vocab_size=40000000>\n",
            "2023-05-19 16:53:14,204 : INFO : FrozenPhrases lifecycle event {'msg': 'exported FrozenPhrases<91 phrases, min_count=100, threshold=10.0> from Phrases<597019 vocab, min_count=100, threshold=10.0, max_vocab_size=40000000> in 0.75s', 'datetime': '2023-05-19T16:53:14.204855', 'gensim': '4.3.1', 'python': '3.10.6 (main, Mar 10 2023, 10:55:28) [GCC 11.3.0]', 'platform': 'Linux-5.19.0-41-generic-x86_64-with-glibc2.35', 'event': 'created'}\n"
          ]
        }
      ],
      "source": [
        "bigram = Phraser(phrases)\n",
        "sentences = bigram[cleaned_content]"
      ]
    },
    {
      "cell_type": "code",
      "execution_count": 10,
      "metadata": {},
      "outputs": [
        {
          "name": "stdout",
          "output_type": "stream",
          "text": [
            "[['Miss', 'HooverNo', 'actually', 'it', 'was', 'a', 'little', 'of', 'both', 'Sometimes', 'when', 'a', 'disease', 'is', 'in', 'all', 'the', 'magazines', 'and', 'all', 'the', 'news', 'shows', 'its', 'only', 'natural', 'that', 'you', 'think', 'you', 'have', 'it'], ['Lisa', 'SimpsonWheres', 'Mr', 'Bergstrom'], ['Miss', 'HooverI', 'dont_know', 'Although', 'Id', 'sure', 'like', 'to', 'talk', 'to', 'him', 'didnt', 'touch', 'my', 'lesson', 'plan', 'What', 'did', 'teach', 'you'], ['Lisa', 'SimpsonThat', 'life', 'is', 'worth', 'living'], ['Edna', 'KrabappelFlandersThe', 'polls', 'will_be', 'open', 'from', 'now', 'until', 'the', 'end', 'of', 'recess', 'Now', 'just', 'in', 'case', 'any', 'of', 'you', 'have', 'decided', 'to', 'put', 'any', 'thought', 'into', 'this', 'well', 'have', 'our', 'final', 'statements', 'Martin'], ['Martin', 'PrinceI', 'dont', 'think', 'theres', 'anything', 'left', 'to', 'say'], ['Edna', 'KrabappelFlandersBart'], ['Bart', 'SimpsonVictory', 'party', 'under', 'the', 'slide'], ['Lisa', 'SimpsonMr', 'Bergstrom', 'Mr', 'Bergstrom'], ['LandladyHey', 'hey', 'Moved', 'out', 'this', 'morning', 'must', 'have', 'a', 'new', 'job', 'took', 'his', 'Copernicus', 'costume']]\n"
          ]
        }
      ],
      "source": [
        "# para ver como quedan los textos tokenizadas, quitar comentario a la siguiente linea:\n",
        "print(list(sentences)[0:10])"
      ]
    },
    {
      "cell_type": "code",
      "execution_count": 11,
      "metadata": {},
      "outputs": [
        {
          "name": "stderr",
          "output_type": "stream",
          "text": [
            "2023-05-19 16:53:16,790 : INFO : Word2Vec lifecycle event {'params': 'Word2Vec<vocab=0, vector_size=200, alpha=0.03>', 'datetime': '2023-05-19T16:53:16.790638', 'gensim': '4.3.1', 'python': '3.10.6 (main, Mar 10 2023, 10:55:28) [GCC 11.3.0]', 'platform': 'Linux-5.19.0-41-generic-x86_64-with-glibc2.35', 'event': 'created'}\n",
            "2023-05-19 16:53:16,791 : INFO : FastText lifecycle event {'params': 'FastText<vocab=0, vector_size=200, alpha=0.03>', 'datetime': '2023-05-19T16:53:16.791793', 'gensim': '4.3.1', 'python': '3.10.6 (main, Mar 10 2023, 10:55:28) [GCC 11.3.0]', 'platform': 'Linux-5.19.0-41-generic-x86_64-with-glibc2.35', 'event': 'created'}\n"
          ]
        }
      ],
      "source": [
        "#Modelo woed2vec:\n",
        "Simpsons_w2v = Word2Vec(min_count=10,\n",
        "                      window=4,\n",
        "                      vector_size=200,\n",
        "                      sample=6e-5,\n",
        "                      alpha=0.03,\n",
        "                      min_alpha=0.0007,\n",
        "                      negative=20,\n",
        "                      workers=multiprocessing.cpu_count())\n",
        "\n",
        "\n",
        "#Modelo FastText:\n",
        "Simpsons_ft = FastText(min_count=10,\n",
        "                        window=4,\n",
        "                        vector_size=200,\n",
        "                        sample=6e-5,\n",
        "                        alpha=0.03,\n",
        "                        min_alpha=0.0007,\n",
        "                        negative=20,\n",
        "                        workers=multiprocessing.cpu_count())\n",
        "\n",
        "\n"
      ]
    },
    {
      "cell_type": "code",
      "execution_count": null,
      "metadata": {},
      "outputs": [],
      "source": [
        "#Construimos el vocabulario:\n",
        "Simpsons_w2v.build_vocab(sentences, progress_per=10000)"
      ]
    },
    {
      "cell_type": "code",
      "execution_count": 12,
      "metadata": {},
      "outputs": [
        {
          "name": "stderr",
          "output_type": "stream",
          "text": [
            "2023-05-19 16:50:21,343 : INFO : Word2Vec lifecycle event {'msg': 'training model with 8 workers on 8907 vocabulary and 200 features, using sg=0 hs=0 sample=6e-05 negative=20 window=4 shrink_windows=True', 'datetime': '2023-05-19T16:50:21.343312', 'gensim': '4.3.1', 'python': '3.10.6 (main, Mar 10 2023, 10:55:28) [GCC 11.3.0]', 'platform': 'Linux-5.19.0-41-generic-x86_64-with-glibc2.35', 'event': 'train'}\n",
            "2023-05-19 16:50:22,361 : INFO : EPOCH 0 - PROGRESS: at 59.67% examples, 309672 words/s, in_qsize 16, out_qsize 0\n",
            "2023-05-19 16:50:22,756 : INFO : EPOCH 0: training on 1372110 raw words (527877 effective words) took 1.4s, 375578 effective words/s\n",
            "2023-05-19 16:50:23,782 : INFO : EPOCH 1 - PROGRESS: at 58.96% examples, 303453 words/s, in_qsize 14, out_qsize 1\n",
            "2023-05-19 16:50:24,159 : INFO : EPOCH 1: training on 1372110 raw words (528297 effective words) took 1.4s, 378370 effective words/s\n",
            "2023-05-19 16:50:25,186 : INFO : EPOCH 2 - PROGRESS: at 60.40% examples, 310608 words/s, in_qsize 15, out_qsize 0\n",
            "2023-05-19 16:50:25,563 : INFO : EPOCH 2: training on 1372110 raw words (528410 effective words) took 1.4s, 378068 effective words/s\n",
            "2023-05-19 16:50:26,608 : INFO : EPOCH 3 - PROGRESS: at 63.91% examples, 324223 words/s, in_qsize 15, out_qsize 0\n",
            "2023-05-19 16:50:27,029 : INFO : EPOCH 3: training on 1372110 raw words (528600 effective words) took 1.5s, 362398 effective words/s\n",
            "2023-05-19 16:50:28,083 : INFO : EPOCH 4 - PROGRESS: at 61.10% examples, 306438 words/s, in_qsize 13, out_qsize 4\n",
            "2023-05-19 16:50:28,424 : INFO : EPOCH 4: training on 1372110 raw words (527933 effective words) took 1.4s, 380161 effective words/s\n",
            "2023-05-19 16:50:29,431 : INFO : EPOCH 5 - PROGRESS: at 50.52% examples, 262569 words/s, in_qsize 15, out_qsize 0\n",
            "2023-05-19 16:50:29,966 : INFO : EPOCH 5: training on 1372110 raw words (528304 effective words) took 1.5s, 344057 effective words/s\n",
            "2023-05-19 16:50:30,985 : INFO : EPOCH 6 - PROGRESS: at 56.20% examples, 290551 words/s, in_qsize 12, out_qsize 4\n",
            "2023-05-19 16:50:31,425 : INFO : EPOCH 6: training on 1372110 raw words (528625 effective words) took 1.5s, 364054 effective words/s\n",
            "2023-05-19 16:50:32,433 : INFO : EPOCH 7 - PROGRESS: at 54.81% examples, 285789 words/s, in_qsize 11, out_qsize 0\n",
            "2023-05-19 16:50:32,919 : INFO : EPOCH 7: training on 1372110 raw words (528404 effective words) took 1.5s, 355276 effective words/s\n",
            "2023-05-19 16:50:33,939 : INFO : EPOCH 8 - PROGRESS: at 58.95% examples, 305421 words/s, in_qsize 13, out_qsize 0\n",
            "2023-05-19 16:50:34,477 : INFO : EPOCH 8: training on 1372110 raw words (528295 effective words) took 1.6s, 340627 effective words/s\n",
            "2023-05-19 16:50:35,510 : INFO : EPOCH 9 - PROGRESS: at 58.26% examples, 297834 words/s, in_qsize 15, out_qsize 0\n",
            "2023-05-19 16:50:35,902 : INFO : EPOCH 9: training on 1372110 raw words (529280 effective words) took 1.4s, 373179 effective words/s\n",
            "2023-05-19 16:50:36,908 : INFO : EPOCH 10 - PROGRESS: at 59.68% examples, 313302 words/s, in_qsize 15, out_qsize 0\n",
            "2023-05-19 16:50:37,275 : INFO : EPOCH 10: training on 1372110 raw words (528592 effective words) took 1.4s, 386795 effective words/s\n",
            "2023-05-19 16:50:38,309 : INFO : EPOCH 11 - PROGRESS: at 60.37% examples, 308425 words/s, in_qsize 11, out_qsize 5\n",
            "2023-05-19 16:50:38,654 : INFO : EPOCH 11: training on 1372110 raw words (528556 effective words) took 1.4s, 385098 effective words/s\n",
            "2023-05-19 16:50:39,666 : INFO : EPOCH 12 - PROGRESS: at 60.38% examples, 315339 words/s, in_qsize 15, out_qsize 0\n",
            "2023-05-19 16:50:40,132 : INFO : EPOCH 12: training on 1372110 raw words (528458 effective words) took 1.5s, 359051 effective words/s\n",
            "2023-05-19 16:50:41,235 : INFO : EPOCH 13 - PROGRESS: at 66.07% examples, 317449 words/s, in_qsize 15, out_qsize 0\n",
            "2023-05-19 16:50:41,522 : INFO : EPOCH 13: training on 1372110 raw words (528832 effective words) took 1.4s, 382374 effective words/s\n",
            "2023-05-19 16:50:42,531 : INFO : EPOCH 14 - PROGRESS: at 58.99% examples, 308948 words/s, in_qsize 15, out_qsize 0\n",
            "2023-05-19 16:50:42,908 : INFO : EPOCH 14: training on 1372110 raw words (528534 effective words) took 1.4s, 383169 effective words/s\n",
            "2023-05-19 16:50:43,916 : INFO : EPOCH 15 - PROGRESS: at 56.20% examples, 293697 words/s, in_qsize 13, out_qsize 5\n",
            "2023-05-19 16:50:44,315 : INFO : EPOCH 15: training on 1372110 raw words (528474 effective words) took 1.4s, 377542 effective words/s\n",
            "2023-05-19 16:50:45,360 : INFO : EPOCH 16 - PROGRESS: at 62.50% examples, 316090 words/s, in_qsize 15, out_qsize 0\n",
            "2023-05-19 16:50:45,683 : INFO : EPOCH 16: training on 1372110 raw words (528209 effective words) took 1.4s, 388072 effective words/s\n",
            "2023-05-19 16:50:46,694 : INFO : EPOCH 17 - PROGRESS: at 59.64% examples, 311919 words/s, in_qsize 14, out_qsize 2\n",
            "2023-05-19 16:50:47,166 : INFO : EPOCH 17: training on 1372110 raw words (528146 effective words) took 1.5s, 357818 effective words/s\n",
            "2023-05-19 16:50:48,194 : INFO : EPOCH 18 - PROGRESS: at 63.95% examples, 329106 words/s, in_qsize 11, out_qsize 0\n",
            "2023-05-19 16:50:48,554 : INFO : EPOCH 18: training on 1372110 raw words (528266 effective words) took 1.4s, 382305 effective words/s\n",
            "2023-05-19 16:50:49,568 : INFO : EPOCH 19 - PROGRESS: at 60.40% examples, 314766 words/s, in_qsize 15, out_qsize 0\n",
            "2023-05-19 16:50:49,933 : INFO : EPOCH 19: training on 1372110 raw words (528170 effective words) took 1.4s, 384856 effective words/s\n",
            "2023-05-19 16:50:50,970 : INFO : EPOCH 20 - PROGRESS: at 61.10% examples, 311802 words/s, in_qsize 15, out_qsize 0\n",
            "2023-05-19 16:50:51,313 : INFO : EPOCH 20: training on 1372110 raw words (529147 effective words) took 1.4s, 385306 effective words/s\n",
            "2023-05-19 16:50:52,335 : INFO : EPOCH 21 - PROGRESS: at 60.37% examples, 311978 words/s, in_qsize 15, out_qsize 0\n",
            "2023-05-19 16:50:52,695 : INFO : EPOCH 21: training on 1372110 raw words (528285 effective words) took 1.4s, 384256 effective words/s\n",
            "2023-05-19 16:50:53,716 : INFO : EPOCH 22 - PROGRESS: at 60.40% examples, 312488 words/s, in_qsize 15, out_qsize 0\n",
            "2023-05-19 16:50:54,179 : INFO : EPOCH 22: training on 1372110 raw words (528458 effective words) took 1.5s, 357823 effective words/s\n",
            "2023-05-19 16:50:55,213 : INFO : EPOCH 23 - PROGRESS: at 61.08% examples, 312720 words/s, in_qsize 15, out_qsize 0\n",
            "2023-05-19 16:50:55,563 : INFO : EPOCH 23: training on 1372110 raw words (528675 effective words) took 1.4s, 383830 effective words/s\n",
            "2023-05-19 16:50:56,586 : INFO : EPOCH 24 - PROGRESS: at 59.71% examples, 308704 words/s, in_qsize 11, out_qsize 6\n",
            "2023-05-19 16:50:56,951 : INFO : EPOCH 24: training on 1372110 raw words (529400 effective words) took 1.4s, 383345 effective words/s\n",
            "2023-05-19 16:50:56,952 : INFO : Word2Vec lifecycle event {'msg': 'training on 34302750 raw words (13212227 effective words) took 35.6s, 371045 effective words/s', 'datetime': '2023-05-19T16:50:56.952106', 'gensim': '4.3.1', 'python': '3.10.6 (main, Mar 10 2023, 10:55:28) [GCC 11.3.0]', 'platform': 'Linux-5.19.0-41-generic-x86_64-with-glibc2.35', 'event': 'train'}\n"
          ]
        },
        {
          "name": "stdout",
          "output_type": "stream",
          "text": [
            "Time to train the model: 0.59 mins\n"
          ]
        }
      ],
      "source": [
        "#Entrenamos modelo w2v\n",
        "t = time()\n",
        "Simpsons_w2v.train(sentences, total_examples=Simpsons_w2v.corpus_count, epochs=25, report_delay=10)\n",
        "print('Time to train the model: {} mins'.format(round((time() - t) / 60, 2)))\n"
      ]
    },
    {
      "cell_type": "code",
      "execution_count": 12,
      "metadata": {},
      "outputs": [
        {
          "name": "stderr",
          "output_type": "stream",
          "text": [
            "2023-05-19 16:53:22,160 : INFO : collecting all words and their counts\n",
            "2023-05-19 16:53:22,161 : INFO : PROGRESS: at sentence #0, processed 0 words, keeping 0 word types\n",
            "2023-05-19 16:53:22,253 : INFO : PROGRESS: at sentence #10000, processed 101844 words, keeping 15730 word types\n",
            "2023-05-19 16:53:22,324 : INFO : PROGRESS: at sentence #20000, processed 205879 words, keeping 25594 word types\n",
            "2023-05-19 16:53:22,404 : INFO : PROGRESS: at sentence #30000, processed 319516 words, keeping 34491 word types\n",
            "2023-05-19 16:53:22,476 : INFO : PROGRESS: at sentence #40000, processed 424692 words, keeping 41294 word types\n",
            "2023-05-19 16:53:22,547 : INFO : PROGRESS: at sentence #50000, processed 522288 words, keeping 47863 word types\n",
            "2023-05-19 16:53:22,617 : INFO : PROGRESS: at sentence #60000, processed 614063 words, keeping 53932 word types\n",
            "2023-05-19 16:53:22,690 : INFO : PROGRESS: at sentence #70000, processed 715810 words, keeping 60223 word types\n",
            "2023-05-19 16:53:22,765 : INFO : PROGRESS: at sentence #80000, processed 823239 words, keeping 66326 word types\n",
            "2023-05-19 16:53:22,839 : INFO : PROGRESS: at sentence #90000, processed 928559 words, keeping 72293 word types\n",
            "2023-05-19 16:53:22,914 : INFO : PROGRESS: at sentence #100000, processed 1034630 words, keeping 77908 word types\n",
            "2023-05-19 16:53:22,996 : INFO : PROGRESS: at sentence #110000, processed 1142844 words, keeping 83922 word types\n",
            "2023-05-19 16:53:23,078 : INFO : PROGRESS: at sentence #120000, processed 1248271 words, keeping 89307 word types\n",
            "2023-05-19 16:53:23,156 : INFO : PROGRESS: at sentence #130000, processed 1352861 words, keeping 93841 word types\n",
            "2023-05-19 16:53:23,171 : INFO : collected 94548 word types from a corpus of 1372110 raw words and 131853 sentences\n",
            "2023-05-19 16:53:23,171 : INFO : Creating a fresh vocabulary\n",
            "2023-05-19 16:53:23,213 : INFO : FastText lifecycle event {'msg': 'effective_min_count=10 retains 8907 unique words (9.42% of original 94548, drops 85641)', 'datetime': '2023-05-19T16:53:23.213874', 'gensim': '4.3.1', 'python': '3.10.6 (main, Mar 10 2023, 10:55:28) [GCC 11.3.0]', 'platform': 'Linux-5.19.0-41-generic-x86_64-with-glibc2.35', 'event': 'prepare_vocab'}\n",
            "2023-05-19 16:53:23,214 : INFO : FastText lifecycle event {'msg': 'effective_min_count=10 leaves 1214250 word corpus (88.50% of original 1372110, drops 157860)', 'datetime': '2023-05-19T16:53:23.214398', 'gensim': '4.3.1', 'python': '3.10.6 (main, Mar 10 2023, 10:55:28) [GCC 11.3.0]', 'platform': 'Linux-5.19.0-41-generic-x86_64-with-glibc2.35', 'event': 'prepare_vocab'}\n",
            "2023-05-19 16:53:23,245 : INFO : deleting the raw counts dictionary of 94548 items\n",
            "2023-05-19 16:53:23,247 : INFO : sample=6e-05 downsamples 805 most-common words\n",
            "2023-05-19 16:53:23,248 : INFO : FastText lifecycle event {'msg': 'downsampling leaves estimated 528492.7114590418 word corpus (43.5%% of prior 1214250)', 'datetime': '2023-05-19T16:53:23.248032', 'gensim': '4.3.1', 'python': '3.10.6 (main, Mar 10 2023, 10:55:28) [GCC 11.3.0]', 'platform': 'Linux-5.19.0-41-generic-x86_64-with-glibc2.35', 'event': 'prepare_vocab'}\n",
            "2023-05-19 16:53:23,328 : INFO : estimated required memory for 8907 words, 2000000 buckets and 200 dimensions: 1620303436 bytes\n",
            "2023-05-19 16:53:23,328 : INFO : resetting layer weights\n",
            "2023-05-19 16:53:25,406 : INFO : FastText lifecycle event {'update': False, 'trim_rule': 'None', 'datetime': '2023-05-19T16:53:25.406885', 'gensim': '4.3.1', 'python': '3.10.6 (main, Mar 10 2023, 10:55:28) [GCC 11.3.0]', 'platform': 'Linux-5.19.0-41-generic-x86_64-with-glibc2.35', 'event': 'build_vocab'}\n"
          ]
        },
        {
          "name": "stdout",
          "output_type": "stream",
          "text": [
            "Time to train the model: 0.05 mins\n"
          ]
        }
      ],
      "source": [
        "#Entrenamos modelo ft:\n",
        "t = time()\n",
        "Simpsons_ft.build_vocab(sentences, progress_per=10000)\n",
        "print('Time to train the model: {} mins'.format(round((time() - t) / 60, 2)))"
      ]
    },
    {
      "attachments": {},
      "cell_type": "markdown",
      "metadata": {},
      "source": [
        "#### NOTA: Falta entrenar FastText"
      ]
    },
    {
      "cell_type": "code",
      "execution_count": 14,
      "metadata": {},
      "outputs": [
        {
          "name": "stderr",
          "output_type": "stream",
          "text": [
            "/tmp/ipykernel_116941/2085262728.py:2: DeprecationWarning: Call to deprecated `init_sims` (Gensim 4.0.0 implemented internal optimizations that make calls to init_sims() unnecessary. init_sims() is now obsoleted and will be completely removed in future versions. See https://github.com/RaRe-Technologies/gensim/wiki/Migrating-from-Gensim-3.x-to-4).\n",
            "  Simpsons_w2v.init_sims(replace=True)\n",
            "2023-05-19 16:51:20,535 : WARNING : destructive init_sims(replace=True) deprecated & no longer required for space-efficiency\n"
          ]
        }
      ],
      "source": [
        "#Ahora que terminamos de entrenar el modelo, le indicamos que no lo entrenaremos mas. Esto nos permitirá ejecutar eficientemente las tareas que realizaremos.\n",
        "Simpsons_w2v.init_sims(replace=True)"
      ]
    },
    {
      "attachments": {},
      "cell_type": "markdown",
      "metadata": {
        "id": "-Lr8U5wOTNcr"
      },
      "source": [
        "**Pregunta 2**: Encuentre las palabras mas similares a las siguientes: Lisa, Bart, Homer, Marge. Cúal es la diferencia entre ambos resultados? Por qué ocurre esto? Intente comparar ahora Liisa en ambos modelos (doble i). Cuando escogería uno vs el otro? **(0.5 puntos)**"
      ]
    },
    {
      "attachments": {},
      "cell_type": "markdown",
      "metadata": {
        "id": "yMLyGffVTNcs"
      },
      "source": [
        "**Respuesta**:"
      ]
    },
    {
      "cell_type": "code",
      "execution_count": 15,
      "metadata": {
        "id": "w6RvJGpbTNcs"
      },
      "outputs": [
        {
          "data": {
            "text/plain": [
              "[('Bart', 0.8010185360908508),\n",
              " ('Marge', 0.7423198223114014),\n",
              " ('Homer', 0.7359989881515503),\n",
              " ('Grampa', 0.6516071557998657),\n",
              " ('Dad', 0.5698140263557434),\n",
              " ('Mom', 0.5520078539848328),\n",
              " ('Mona', 0.5205153226852417),\n",
              " ('Maggie', 0.4405081272125244),\n",
              " ('saxophone', 0.43468791246414185),\n",
              " ('pony', 0.41573822498321533)]"
            ]
          },
          "execution_count": 15,
          "metadata": {},
          "output_type": "execute_result"
        }
      ],
      "source": [
        "Simpsons_w2v.wv.most_similar(positive=[\"Lisa\"])"
      ]
    },
    {
      "cell_type": "code",
      "execution_count": 16,
      "metadata": {},
      "outputs": [
        {
          "data": {
            "text/plain": [
              "[('Lisa', 0.8010185360908508),\n",
              " ('Homer', 0.7109986543655396),\n",
              " ('Marge', 0.6230092644691467),\n",
              " ('Grampa', 0.6223070025444031),\n",
              " ('Dad', 0.6031257510185242),\n",
              " ('Mom', 0.5371394157409668),\n",
              " ('Whatd', 0.4600909352302551),\n",
              " ('Lis', 0.4447820782661438),\n",
              " ('squeal', 0.4309525787830353),\n",
              " ('meatloaf', 0.4243447184562683)]"
            ]
          },
          "execution_count": 16,
          "metadata": {},
          "output_type": "execute_result"
        }
      ],
      "source": [
        "Simpsons_w2v.wv.most_similar(positive=[\"Bart\"])"
      ]
    },
    {
      "cell_type": "code",
      "execution_count": 17,
      "metadata": {},
      "outputs": [
        {
          "data": {
            "text/plain": [
              "[('Marge', 0.7779496908187866),\n",
              " ('Grampa', 0.7603975534439087),\n",
              " ('Lisa', 0.7359989881515503),\n",
              " ('Bart', 0.7109986543655396),\n",
              " ('Mona', 0.4952374994754791),\n",
              " ('Homie', 0.4469567537307739),\n",
              " ('thisll', 0.44663798809051514),\n",
              " ('sweetie', 0.4435059428215027),\n",
              " ('honey', 0.4401094317436218),\n",
              " ('Dad', 0.43942978978157043)]"
            ]
          },
          "execution_count": 17,
          "metadata": {},
          "output_type": "execute_result"
        }
      ],
      "source": [
        "Simpsons_w2v.wv.most_similar(positive=[\"Homer\"])"
      ]
    },
    {
      "cell_type": "code",
      "execution_count": 18,
      "metadata": {},
      "outputs": [
        {
          "data": {
            "text/plain": [
              "[('Homer', 0.7779496908187866),\n",
              " ('Lisa', 0.7423198223114014),\n",
              " ('Grampa', 0.6660140752792358),\n",
              " ('Bart', 0.6230092644691467),\n",
              " ('Homie', 0.6041595935821533),\n",
              " ('Mona', 0.556485652923584),\n",
              " ('honey', 0.5446598529815674),\n",
              " ('sweetie', 0.5164464712142944),\n",
              " ('Maggie', 0.4595811367034912),\n",
              " ('Honey', 0.4521809220314026)]"
            ]
          },
          "execution_count": 18,
          "metadata": {},
          "output_type": "execute_result"
        }
      ],
      "source": [
        "Simpsons_w2v.wv.most_similar(positive=[\"Marge\"])"
      ]
    },
    {
      "cell_type": "code",
      "execution_count": 19,
      "metadata": {},
      "outputs": [
        {
          "data": {
            "image/png": "[encoded data removed]",
            "text/plain": [
              "<Figure size 600x600 with 1 Axes>"
            ]
          },
          "metadata": {},
          "output_type": "display_data"
        }
      ],
      "source": [
        "#Podemos hacer un analisis pca de algunas plabras clave para ver como se distribuyen:\n",
        "from sklearn.decomposition import PCA\n",
        "import matplotlib.pyplot as plt\n",
        "\n",
        "def display_pca_scatterplot(model, words=None, sample=0):\n",
        "    if words == None:\n",
        "        if sample > 0:\n",
        "            words = np.random.choice(list(model.wv.index_to_key), sample)\n",
        "        else:\n",
        "            words = [word for word in model.wv.index_to_key]\n",
        "    \n",
        "    word_vectors = np.array([model.wv[word] for word in words])\n",
        "    \n",
        "    twodim = PCA().fit_transform(word_vectors)[:,:2]\n",
        "    \n",
        "    plt.figure(figsize=(6,6))\n",
        "    plt.scatter(twodim[:,0], twodim[:,1], edgecolors='k', c='r')\n",
        "    for word, (x,y) in zip(words, twodim):\n",
        "        plt.text(x+0.05, y+0.05, word)\n",
        "    plt.title(\"PCA Simpsons\")\n",
        "    plt.show()\n",
        "\n",
        "display_pca_scatterplot(Simpsons_w2v,\n",
        "                        [\"Homer\", \"Marge\", \"Bart\", \"Lisa\", \"Maggie\", \"Ned\", \"Milhouse\", \"Krusty\", \"Burns\", \"Moe\"])\n",
        "\n"
      ]
    },
    {
      "attachments": {},
      "cell_type": "markdown",
      "metadata": {},
      "source": [
        "NOTA: En el analisis pca puede observarse que Lisa esta cerca de Bart y Marge esta cerca de Homer. Ademas los miembros de la familia Simpsons esta cerca entre ellos"
      ]
    },
    {
      "attachments": {},
      "cell_type": "markdown",
      "metadata": {
        "id": "IRCB-jqgTNcs"
      },
      "source": [
        "### **Parte 4 (1 Punto): Aplicar embeddings para clasificar**"
      ]
    },
    {
      "attachments": {},
      "cell_type": "markdown",
      "metadata": {
        "id": "zlqzlJRSTNcs"
      },
      "source": [
        "Ahora utilizaremos los embeddings que acabamos de calcular para clasificar palabras basadas en su polaridad (positivas o negativas). \n",
        "\n",
        "Para esto ocuparemos el lexicón AFINN incluido en la tarea, que incluye una lista de palabras y un 1 si su connotación es positiva y un -1 si es negativa."
      ]
    },
    {
      "cell_type": "code",
      "execution_count": 20,
      "metadata": {
        "id": "CMskFDmHTNcs"
      },
      "outputs": [],
      "source": [
        "AFINN = 'data/AFINN_full.csv'\n",
        "df_afinn = pd.read_csv(AFINN, sep='\\t', header=None)"
      ]
    },
    {
      "attachments": {},
      "cell_type": "markdown",
      "metadata": {
        "id": "uaKl8hsCTNcs"
      },
      "source": [
        "Hint: Para w2v son esperables KeyErrors debido a que no todas las palabras del corpus de los simpsons tendrán una representación en AFINN. Pueden utilizar esta función auxiliar para filtrar las filas en el dataframe que no tienen embeddings (como w2v no tiene token UNK se deben ignorar)."
      ]
    },
    {
      "cell_type": "code",
      "execution_count": 21,
      "metadata": {
        "id": "tWSSuctiTNcs"
      },
      "outputs": [],
      "source": [
        "def try_apply(model,word):\n",
        "    try:\n",
        "        aux = model[word]\n",
        "        return True\n",
        "    except KeyError:\n",
        "        #logger.error('Word {} not in dictionary'.format(word))\n",
        "        return False"
      ]
    },
    {
      "cell_type": "code",
      "execution_count": 23,
      "metadata": {},
      "outputs": [
        {
          "data": {
            "text/html": [
              "<div>\n",
              "<style scoped>\n",
              "    .dataframe tbody tr th:only-of-type {\n",
              "        vertical-align: middle;\n",
              "    }\n",
              "\n",
              "    .dataframe tbody tr th {\n",
              "        vertical-align: top;\n",
              "    }\n",
              "\n",
              "    .dataframe thead th {\n",
              "        text-align: right;\n",
              "    }\n",
              "</style>\n",
              "<table border=\"1\" class=\"dataframe\">\n",
              "  <thead>\n",
              "    <tr style=\"text-align: right;\">\n",
              "      <th></th>\n",
              "      <th>score</th>\n",
              "    </tr>\n",
              "    <tr>\n",
              "      <th>word</th>\n",
              "      <th></th>\n",
              "    </tr>\n",
              "  </thead>\n",
              "  <tbody>\n",
              "    <tr>\n",
              "      <th>tops</th>\n",
              "      <td>1</td>\n",
              "    </tr>\n",
              "    <tr>\n",
              "      <th>wasting</th>\n",
              "      <td>-1</td>\n",
              "    </tr>\n",
              "    <tr>\n",
              "      <th>complaining</th>\n",
              "      <td>-1</td>\n",
              "    </tr>\n",
              "    <tr>\n",
              "      <th>super</th>\n",
              "      <td>1</td>\n",
              "    </tr>\n",
              "    <tr>\n",
              "      <th>loving</th>\n",
              "      <td>1</td>\n",
              "    </tr>\n",
              "    <tr>\n",
              "      <th>...</th>\n",
              "      <td>...</td>\n",
              "    </tr>\n",
              "    <tr>\n",
              "      <th>awaits</th>\n",
              "      <td>-1</td>\n",
              "    </tr>\n",
              "    <tr>\n",
              "      <th>fool</th>\n",
              "      <td>-1</td>\n",
              "    </tr>\n",
              "    <tr>\n",
              "      <th>attractive</th>\n",
              "      <td>1</td>\n",
              "    </tr>\n",
              "    <tr>\n",
              "      <th>admire</th>\n",
              "      <td>1</td>\n",
              "    </tr>\n",
              "    <tr>\n",
              "      <th>bold</th>\n",
              "      <td>1</td>\n",
              "    </tr>\n",
              "  </tbody>\n",
              "</table>\n",
              "<p>899 rows × 1 columns</p>\n",
              "</div>"
            ],
            "text/plain": [
              "             score\n",
              "word              \n",
              "tops             1\n",
              "wasting         -1\n",
              "complaining     -1\n",
              "super            1\n",
              "loving           1\n",
              "...            ...\n",
              "awaits          -1\n",
              "fool            -1\n",
              "attractive       1\n",
              "admire           1\n",
              "bold             1\n",
              "\n",
              "[899 rows x 1 columns]"
            ]
          },
          "execution_count": 23,
          "metadata": {},
          "output_type": "execute_result"
        }
      ],
      "source": [
        "#Aplicamos la funcion try_apply para filtrar las palabras que no estan en el modelo de word2vec Simpsons:\n",
        "df_afinn['in_model'] = df_afinn[0].apply(lambda x: try_apply(Simpsons_w2v.wv,x))\n",
        "df_afinn = df_afinn[df_afinn['in_model'] == True]\n",
        "df_afinn = df_afinn.drop('in_model', axis=1)\n",
        "df_afinn.columns = ['word', 'score']\n",
        "df_afinn = df_afinn.set_index('word')\n",
        "df_afinn"
      ]
    },
    {
      "attachments": {},
      "cell_type": "markdown",
      "metadata": {
        "id": "LrVPeEzgTNcs"
      },
      "source": [
        "**Pregunta 1**: Transforme las palabras del corpus de AFINN a la representación en embedding que acabamos de calcular (con ambos modelos). \n",
        "\n",
        "Su dataframe final debe ser del estilo [embedding, sentimiento], donde los embeddings corresponden a $X$ y el sentimiento asociado con el embedding a $y$ (positivo/negativo, 1/-1). \n",
        "\n",
        "Para ambos modelos, separar train y test de acuerdo a la siguiente función. **(0.75 puntos)**"
      ]
    },
    {
      "cell_type": "code",
      "execution_count": 24,
      "metadata": {
        "id": "0Bkt26BwTNcs"
      },
      "outputs": [],
      "source": [
        "X_train, X_test, y_train, y_test = train_test_split(df_afinn.index.values, df_afinn['score'].values, random_state=0, test_size=0.1, stratify=df_afinn['score'].values)\n"
      ]
    },
    {
      "attachments": {},
      "cell_type": "markdown",
      "metadata": {
        "id": "iDcq5czXTNct"
      },
      "source": [
        "**Respuesta**:"
      ]
    },
    {
      "attachments": {},
      "cell_type": "markdown",
      "metadata": {
        "id": "kDKe4gA3TNct"
      },
      "source": [
        "**Pregunta 2**: Entrenar una regresión logística (vista en auxiliar) y reportar accuracy, precision, recall, f1 y confusion_matrix para ambos modelos. Por qué se obtienen estos resultados? Cómo los mejorarías? **(0.75 puntos)**"
      ]
    },
    {
      "cell_type": "code",
      "execution_count": 25,
      "metadata": {},
      "outputs": [
        {
          "name": "stdout",
          "output_type": "stream",
          "text": [
            "              precision    recall  f1-score   support\n",
            "\n",
            "          -1       0.79      0.90      0.84        51\n",
            "           1       0.84      0.69      0.76        39\n",
            "\n",
            "    accuracy                           0.81        90\n",
            "   macro avg       0.82      0.80      0.80        90\n",
            "weighted avg       0.82      0.81      0.81        90\n",
            "\n"
          ]
        }
      ],
      "source": [
        "#Entrenamos un modelo de clasificacion con regresion logistica, suando como features los vectores de word2vec:\n",
        "from sklearn.linear_model import LogisticRegression\n",
        "from sklearn.metrics import accuracy_score, precision_score, recall_score, f1_score, roc_auc_score, confusion_matrix, cohen_kappa_score, classification_report\n",
        "\n",
        "def train_model(model, X_train, y_train, X_test, y_test):\n",
        "    model.fit(X_train, y_train)\n",
        "    y_pred = model.predict(X_test)\n",
        "    print(classification_report(y_test, y_pred))\n",
        "\n",
        "model = LogisticRegression()\n",
        "train_model(model, Simpsons_w2v.wv[X_train], y_train, Simpsons_w2v.wv[X_test], y_test)\n",
        "\n"
      ]
    },
    {
      "attachments": {},
      "cell_type": "markdown",
      "metadata": {
        "id": "hJMzq_dETNct"
      },
      "source": [
        "**Respuesta**:"
      ]
    },
    {
      "attachments": {},
      "cell_type": "markdown",
      "metadata": {
        "id": "izppruGQTNct"
      },
      "source": [
        "# Bonus: +0.25 puntos en cualquier pregunta"
      ]
    },
    {
      "attachments": {},
      "cell_type": "markdown",
      "metadata": {
        "id": "YW0aeK2KTNct"
      },
      "source": [
        "**Pregunta 1**: Replicar la parte anterior utilizando embeddings pre-entrenados en un dataset más grande y obtener mejores resultados. Les puede servir [ésta](https://radimrehurek.com/gensim/downloader.html#module-gensim.downloader) documentacion de gensim **(0.25 puntos)**."
      ]
    },
    {
      "attachments": {},
      "cell_type": "markdown",
      "metadata": {
        "id": "qvHcVS3sTNct"
      },
      "source": [
        "**Respuesta**:"
      ]
    },
    {
      "cell_type": "code",
      "execution_count": null,
      "metadata": {
        "id": "MSc8p-T8TNcu"
      },
      "outputs": [],
      "source": []
    }
  ],
  "metadata": {
    "colab": {
      "provenance": []
    },
    "kernelspec": {
      "display_name": "Python 3",
      "language": "python",
      "name": "python3"
    },
    "language_info": {
      "codemirror_mode": {
        "name": "ipython",
        "version": 3
      },
      "file_extension": ".py",
      "mimetype": "text/x-python",
      "name": "python",
      "nbconvert_exporter": "python",
      "pygments_lexer": "ipython3",
      "version": "3.10.6"
    }
  },
  "nbformat": 4,
  "nbformat_minor": 0
}
